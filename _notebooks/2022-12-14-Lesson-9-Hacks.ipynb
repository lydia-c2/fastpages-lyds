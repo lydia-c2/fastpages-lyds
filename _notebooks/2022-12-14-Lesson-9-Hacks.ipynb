{
 "cells": [
  {
   "cell_type": "markdown",
   "metadata": {},
   "source": [
    "# Unit 3.17-3.18 Hacks\n",
    "> My Hacks from Lesson 3.17-3.18\n",
    "\n",
    "- toc: false\n",
    "- comments: true\n",
    "- permalink: /notebooks/U3L9Notes\n",
    "- categories: [week 16]"
   ]
  },
  {
   "cell_type": "markdown",
   "metadata": {},
   "source": [
    "## Hacks #1\n",
    "\n",
    "Collatz Sequence and Iteration"
   ]
  },
  {
   "cell_type": "code",
   "execution_count": 2,
   "metadata": {},
   "outputs": [
    {
     "name": "stdout",
     "output_type": "stream",
     "text": [
      "Please enter a number: Sequence:  [7, 22, 11.0, 34.0, 17.0, 52.0, 26.0, 13.0, 40.0, 20.0, 10.0, 5.0, 16.0, 8.0, 4.0, 2.0, 1.0]\n",
      "Number of iterations: 16\n"
     ]
    }
   ],
   "source": [
    "def collatz(i):\n",
    "    while i != 1:\n",
    "        if i % 2 > 0:\n",
    "             i =((3 * i) + 1)\n",
    "             list_.append(i)\n",
    "        else:\n",
    "            i = (i / 2)\n",
    "            list_.append(i)\n",
    "    return list_\n",
    "print('Please enter a number: ', end='')\n",
    "while True:\n",
    "    try:\n",
    "        i = int(input())\n",
    "        list_ = [i]\n",
    "        break\n",
    "    except ValueError:\n",
    "        print('Invaid selection, try again: ', end='')\n",
    "\n",
    "\n",
    "l = collatz(i)\n",
    "\n",
    "print('')\n",
    "print(\"Sequence: \", list_)\n",
    "print('Number of iterations:', len(l) - 1)"
   ]
  },
  {
   "cell_type": "markdown",
   "metadata": {},
   "source": [
    "## Hacks #2\n",
    "#### (Based on) Mini Activity Idea"
   ]
  },
  {
   "cell_type": "markdown",
   "metadata": {},
   "source": [
    "### Efficient Algorithm:"
   ]
  },
  {
   "cell_type": "code",
   "execution_count": 9,
   "metadata": {},
   "outputs": [
    {
     "name": "stdout",
     "output_type": "stream",
     "text": [
      "Spanish: \n",
      "preterite and imperfect\n",
      "History: \n",
      "study for unit test\n",
      "Physics: \n",
      "marshmallow microwave lab\n",
      "APSCP: \n",
      "HACKS\n"
     ]
    }
   ],
   "source": [
    "homework = [\"Spanish\", \"US History\", \"Physics 2\", \"APSCP\",]\n",
    "def complete_hw(homework):\n",
    " for homework in homework:\n",
    "    if homework == \"Spanish\":\n",
    "        span = str(input(\"What Spanish HW?\"))\n",
    "        print(\"Spanish: \")\n",
    "        print(span)\n",
    "    elif homework == \"US History\":\n",
    "        history = str(input(\"What History HW?\"))\n",
    "        print(\"History: \")\n",
    "        print(history)\n",
    "    elif homework == \"Physics 2\":\n",
    "        physics = str(input(\"What Physics HW?\"))\n",
    "        print(\"Physics: \")\n",
    "        print(physics)\n",
    "    else: \n",
    "        apcsp = str(input(\"What APCSP HW?\"))\n",
    "        print(\"APSCP: \")\n",
    "        print(apcsp)\n",
    " \n",
    "complete_hw(homework)"
   ]
  }
 ],
 "metadata": {
  "kernelspec": {
   "display_name": "Python 3.9.12 ('base')",
   "language": "python",
   "name": "python3"
  },
  "language_info": {
   "codemirror_mode": {
    "name": "ipython",
    "version": 3
   },
   "file_extension": ".py",
   "mimetype": "text/x-python",
   "name": "python",
   "nbconvert_exporter": "python",
   "pygments_lexer": "ipython3",
   "version": "3.9.12"
  },
  "orig_nbformat": 4,
  "vscode": {
   "interpreter": {
    "hash": "25ccfe66b39282fc3ea19bf8fc3cc43ce18f6044ac6a7f466ec4a156f6861604"
   }
  }
 },
 "nbformat": 4,
 "nbformat_minor": 2
}
