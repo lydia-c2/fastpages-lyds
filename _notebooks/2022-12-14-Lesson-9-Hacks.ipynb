{
 "cells": [
  {
   "cell_type": "markdown",
   "metadata": {},
   "source": [
    "# Unit 3.17-3.18 Hacks\n",
    "> My Hacks from Lesson 3.17-3.18\n",
    "\n",
    "- toc: false\n",
    "- comments: true\n",
    "- permalink: /notebooks/U3L9Notes\n",
    "- categories: [week 16]"
   ]
  },
  {
   "cell_type": "markdown",
   "metadata": {},
   "source": [
    "## Hacks #1\n",
    "\n",
    "Collatz Sequence and Iteration"
   ]
  },
  {
   "cell_type": "code",
   "execution_count": 2,
   "metadata": {},
   "outputs": [
    {
     "name": "stdout",
     "output_type": "stream",
     "text": [
      "Please enter a number: Sequence:  [7, 22, 11.0, 34.0, 17.0, 52.0, 26.0, 13.0, 40.0, 20.0, 10.0, 5.0, 16.0, 8.0, 4.0, 2.0, 1.0]\n",
      "Number of iterations: 16\n"
     ]
    }
   ],
   "source": [
    "def collatz(i):\n",
    "    while i != 1:\n",
    "        if i % 2 > 0:\n",
    "             i =((3 * i) + 1)\n",
    "             list_.append(i)\n",
    "        else:\n",
    "            i = (i / 2)\n",
    "            list_.append(i)\n",
    "    return list_\n",
    "print('Please enter a number: ', end='')\n",
    "while True:\n",
    "    try:\n",
    "        i = int(input())\n",
    "        list_ = [i]\n",
    "        break\n",
    "    except ValueError:\n",
    "        print('Invaid selection, try again: ', end='')\n",
    "\n",
    "\n",
    "l = collatz(i)\n",
    "\n",
    "print('')\n",
    "print(\"Sequence: \", list_)\n",
    "print('Number of iterations:', len(l) - 1)"
   ]
  },
  {
   "cell_type": "markdown",
   "metadata": {},
   "source": [
    "## Hack 2"
   ]
  },
  {
   "cell_type": "markdown",
   "metadata": {},
   "source": [
    "### Efficient Algorithm:"
   ]
  },
  {
   "cell_type": "code",
   "execution_count": 7,
   "metadata": {},
   "outputs": [
    {
     "name": "stdout",
     "output_type": "stream",
     "text": [
      "you got  0  hours of sleep\n",
      "did u stay up reading...\n",
      "you got  1  hours of sleep\n",
      "did u stay up reading...\n",
      "you got  2  hours of sleep\n",
      "did u stay up reading...\n",
      "you got  3  hours of sleep\n",
      "were you watching netflix?\n",
      "you got  4  hours of sleep\n",
      "were you watching netflix?\n",
      "you got  5  hours of sleep\n",
      "were you watching netflix?\n",
      "you got  6  hours of sleep\n",
      "ehh... you still need more sleep\n",
      "you got  7  hours of sleep\n",
      "ehh... you still need more sleep\n",
      "you got  8  hours of sleep\n",
      "ehh... you still need more sleep\n",
      "you got  9  hours of sleep\n",
      "congratulations you got 9 hours!!!!!\n"
     ]
    }
   ],
   "source": [
    "i = 0\n",
    "\n",
    "while i < 10:\n",
    "    if i <=2:\n",
    "        print(\"you got \", i, \" hours of sleep\")\n",
    "        print(\"did u stay up reading...\")\n",
    "    elif i <=5:\n",
    "        print(\"you got \", i, \" hours of sleep\")\n",
    "        print(\"were you watching netflix?\")\n",
    "    elif i <=8:\n",
    "        print(\"you got \", i, \" hours of sleep\")\n",
    "        print(\"ehh... you still need more sleep\")\n",
    "    else:\n",
    "        print(\"you got \", i, \" hours of sleep\")\n",
    "        print(\"congratulations you got 9 hours!!!!!\")\n",
    "    i = i+1\n",
    "    if i == 10:\n",
    "        break"
   ]
  },
  {
   "cell_type": "markdown",
   "metadata": {},
   "source": [
    "### Inefficient Algorithm"
   ]
  },
  {
   "cell_type": "code",
   "execution_count": 22,
   "metadata": {},
   "outputs": [
    {
     "name": "stdout",
     "output_type": "stream",
     "text": [
      "you got  1  hours of sleep\n",
      "did u stay up reading...\n",
      "you got  2  hours of sleep\n",
      "did u stay up reading...\n",
      "you got  3  hours of sleep\n",
      "did u stay up reading...\n",
      "you got  4  hours of sleep\n",
      "did u stay up reading...\n",
      "you got  5  hours of sleep\n",
      "were you watching netflix?\n",
      "you got  6  hours of sleep\n",
      "were you watching netflix?\n",
      "you got  7  hours of sleep\n",
      "were you watching netflix?\n",
      "you got  8  hours of sleep\n",
      "ehh... you still need more sleep\n",
      "you got  9  hours of sleep\n",
      "congratulations you got 9 hours!!!!!\n"
     ]
    }
   ],
   "source": [
    "s = 1\n",
    "if s ==1:\n",
    "    print(\"you got \", s, \" hours of sleep\")\n",
    "    print(\"did u stay up reading...\")\n",
    "s = s+1\n",
    "if s ==2:\n",
    "    print(\"you got \", s, \" hours of sleep\")\n",
    "    print(\"did u stay up reading...\")\n",
    "s = s+1\n",
    "if s ==3:\n",
    "    print(\"you got \", s, \" hours of sleep\")\n",
    "    print(\"did u stay up reading...\")\n",
    "s = s+1\n",
    "if s ==4:\n",
    "    print(\"you got \", s, \" hours of sleep\")\n",
    "    print(\"did u stay up reading...\")\n",
    "s = s+1\n",
    "if s ==5:\n",
    "    print(\"you got \", s, \" hours of sleep\")\n",
    "    print(\"were you watching netflix?\")\n",
    "s = s+1\n",
    "if s ==6:\n",
    "    print(\"you got \", s, \" hours of sleep\")\n",
    "    print(\"were you watching netflix?\")\n",
    "s = s+1\n",
    "if s ==7:\n",
    "    print(\"you got \", s, \" hours of sleep\")\n",
    "    print(\"were you watching netflix?\")\n",
    "s = s+1\n",
    "if s ==8:\n",
    "    print(\"you got \", s, \" hours of sleep\")\n",
    "    print(\"ehh... you still need more sleep\")\n",
    "s = s+1\n",
    "if s == 9:\n",
    "    print(\"you got \", s, \" hours of sleep\")\n",
    "    print(\"congratulations you got 9 hours!!!!!\")"
   ]
  },
  {
   "cell_type": "markdown",
   "metadata": {},
   "source": [
    "### Explanation:\n",
    "\n",
    "The first code is way more efficient than the second as it utilizes loops and ranges of numbers within conditionals to run the code faster. This way was more efficient as it took less steps to write out the program, as well as for the algorithm to run. This way was also easier to debug as the code was short and easy to read and fix mistakes."
   ]
  },
  {
   "cell_type": "markdown",
   "metadata": {},
   "source": [
    "## Hacks #3\n",
    "\n",
    "### What is Algorithm Efficiency?\n",
    "Algorithm Efficiency is the number of steps required to run through an algorithm or find a solution. An efficient algorithm would have less steps to get to the end of an sequence. For example, in the efficient code from Hack #2, I used a while loop and for loop to make less steps for writing out a sleep schedule. An inefficient code, like the second part of Hack #2, might be repetitive or could be condensed into a much simpler code that gets the same results. "
   ]
  },
  {
   "cell_type": "markdown",
   "metadata": {},
   "source": [
    "## Hacks #4 Tasks"
   ]
  },
  {
   "cell_type": "code",
   "execution_count": 28,
   "metadata": {},
   "outputs": [
    {
     "name": "stdout",
     "output_type": "stream",
     "text": [
      "period:  1\n",
      "Spanish: \n",
      "nada! felices fiestas!\n"
     ]
    }
   ],
   "source": [
    "period = int(input(\"What period is it?\"))\n",
    "Class = [\"Spanish\", \"US History\", \"Physics 2\", \"APSCP\",]\n",
    "def complete_day(Class):\n",
    " if period == 1:\n",
    "    print(\"period: \", period)\n",
    "    for Class in Class:\n",
    "        if Class == \"Spanish\":\n",
    "            span = str(input(\"What Spanish HW\"))\n",
    "            print(\"Spanish: \")\n",
    "            print(span)\n",
    "\n",
    " elif  period == 2:\n",
    "    print(\"Period: \", period)\n",
    "    if Class == \"US History\":\n",
    "        history = str(input(\"What History HW?\"))\n",
    "        print(\"History: \")\n",
    "        print(history)\n",
    "\n",
    " elif period == 3:\n",
    "    print(\"Period: \", period)\n",
    "    if Class == \"Physics 2\":\n",
    "        physics = str(input(\"What Physics HW?\"))\n",
    "        print(\"Physics: \")\n",
    "        print(physics)\n",
    "    else: \n",
    "        print(\"Period: \", period)\n",
    "        apcsp = str(input(\"What APCSP HW?\"))\n",
    "        print(\"APSCP: \")\n",
    "        print(apcsp)\n",
    " \n",
    "complete_day(Class)"
   ]
  },
  {
   "cell_type": "markdown",
   "metadata": {},
   "source": [
    "#### EXTRA: Agenda Planner based on Mini Activity Idea"
   ]
  },
  {
   "cell_type": "code",
   "execution_count": 9,
   "metadata": {},
   "outputs": [
    {
     "name": "stdout",
     "output_type": "stream",
     "text": [
      "Spanish: \n",
      "preterite and imperfect\n",
      "History: \n",
      "study for unit test\n",
      "Physics: \n",
      "marshmallow microwave lab\n",
      "APSCP: \n",
      "HACKS\n"
     ]
    }
   ],
   "source": [
    "homework = [\"Spanish\", \"US History\", \"Physics 2\", \"APSCP\",]\n",
    "def complete_hw(homework):\n",
    " for homework in homework:\n",
    "    if homework == \"Spanish\":\n",
    "        span = str(input(\"What Spanish HW?\"))\n",
    "        print(\"Spanish: \")\n",
    "        print(span)\n",
    "    elif homework == \"US History\":\n",
    "        history = str(input(\"What History HW?\"))\n",
    "        print(\"History: \")\n",
    "        print(history)\n",
    "    elif homework == \"Physics 2\":\n",
    "        physics = str(input(\"What Physics HW?\"))\n",
    "        print(\"Physics: \")\n",
    "        print(physics)\n",
    "    else: \n",
    "        apcsp = str(input(\"What APCSP HW?\"))\n",
    "        print(\"APSCP: \")\n",
    "        print(apcsp)\n",
    " \n",
    "complete_hw(homework)"
   ]
  }
 ],
 "metadata": {
  "kernelspec": {
   "display_name": "Python 3.9.12 ('base')",
   "language": "python",
   "name": "python3"
  },
  "language_info": {
   "codemirror_mode": {
    "name": "ipython",
    "version": 3
   },
   "file_extension": ".py",
   "mimetype": "text/x-python",
   "name": "python",
   "nbconvert_exporter": "python",
   "pygments_lexer": "ipython3",
   "version": "3.9.12"
  },
  "orig_nbformat": 4,
  "vscode": {
   "interpreter": {
    "hash": "25ccfe66b39282fc3ea19bf8fc3cc43ce18f6044ac6a7f466ec4a156f6861604"
   }
  }
 },
 "nbformat": 4,
 "nbformat_minor": 2
}
