{
 "cells": [
  {
   "attachments": {},
   "cell_type": "markdown",
   "metadata": {},
   "source": [
    "#  Unit 2.2 and 2.3 Hacks\n",
    "> Quiz Corrections and 2.2-3 Hacks\n",
    "- toc: false\n",
    "- comments: true\n",
    "- categories: [Week 25]"
   ]
  },
  {
   "attachments": {},
   "cell_type": "markdown",
   "metadata": {},
   "source": [
    "## Data Compression Quiz\n",
    "![Data Compression](images/DataCompressionQuiz.png)"
   ]
  },
  {
   "attachments": {},
   "cell_type": "markdown",
   "metadata": {},
   "source": [
    "## Extracting Information from Data Quiz\n",
    "![Quiz](images/ExtractingInfoQuiz.png)\n",
    "\n",
    "<br>\n",
    "\n",
    "![Q4](images/Q4Database.png)\n",
    "\n",
    "- I got this question wrong because I thought the average ticket prices meant how much the tickets were sold for. I realize now that a higher ticket price average would indicate more popularity."
   ]
  },
  {
   "attachments": {},
   "cell_type": "markdown",
   "metadata": {},
   "source": [
    "## Using Programs with Data Quiz\n",
    "![Overview](images/UsingProgramsQuiz.png)\n",
    "\n",
    "<br>\n",
    "\n",
    "![Museum Question](images/Q4Museum.png)\n",
    "\n",
    "- I got this question wrong because I thought it would sort the photographers by year. I realize now that this algorithm does not filter out the unknown years, so this answer is wrong. The correct answer is D."
   ]
  },
  {
   "attachments": {},
   "cell_type": "markdown",
   "metadata": {},
   "source": [
    "## Binary Numbers Quiz\n",
    "![Binary Quiz](images/BinaryNumQuiz.png)\n",
    "\n",
    "<br>\n",
    "\n",
    "![Binary Question](images/Q3Data.png)\n",
    "\n",
    "- I got this question wrong because I forgot strings could be converted into binary. I realize now that strings can be converted to binary, such as with base64. The correct answer is 1, 2, and 3."
   ]
  },
  {
   "attachments": {},
   "cell_type": "markdown",
   "metadata": {},
   "source": [
    "# 2.3 Pandas and Dataset Hack"
   ]
  },
  {
   "cell_type": "code",
   "execution_count": 8,
   "metadata": {},
   "outputs": [
    {
     "name": "stdout",
     "output_type": "stream",
     "text": [
      "    Competitor Number  Tops  Zones  Ranking\n",
      "1                1601     0      2       10\n",
      "2                1602     3      4        2\n",
      "3                1603     4      4        1\n",
      "4                1604     2      3        4\n",
      "5                1605     3      2        3\n",
      "6                1606     2      2        5\n",
      "7                1607     1      4        7\n",
      "8                1608     2      1        6\n",
      "9                1609     1      1        9\n",
      "10               1610     1      3        8\n",
      " Competitor Number  Ranking\n",
      "              1601       10\n",
      "              1602        2\n",
      "              1603        1\n",
      "              1604        4\n",
      "              1605        3\n",
      "              1606        5\n",
      "              1607        7\n",
      "              1608        6\n",
      "              1609        9\n",
      "              1610        8\n"
     ]
    }
   ],
   "source": [
    "import pandas as pd\n",
    "df = pd.read_json('files/compResults.json')\n",
    "\n",
    "#print compResults json file\n",
    "print(df)\n",
    "\n",
    "\n",
    "#printing just the competitor number and the ranking\n",
    "print(df[['Competitor Number','Ranking']].to_string(index=False))\n"
   ]
  },
  {
   "cell_type": "code",
   "execution_count": 9,
   "metadata": {},
   "outputs": [
    {
     "name": "stdout",
     "output_type": "stream",
     "text": [
      "    Competitor Number  Tops  Zones  Ranking\n",
      "3                1603     4      4        1\n",
      "2                1602     3      4        2\n",
      "5                1605     3      2        3\n",
      "4                1604     2      3        4\n",
      "6                1606     2      2        5\n",
      "8                1608     2      1        6\n",
      "7                1607     1      4        7\n",
      "10               1610     1      3        8\n",
      "9                1609     1      1        9\n",
      "1                1601     0      2       10\n"
     ]
    }
   ],
   "source": [
    "# Sort the competitors by rank\n",
    "print(df.sort_values(by=['Ranking']))"
   ]
  },
  {
   "attachments": {},
   "cell_type": "markdown",
   "metadata": {},
   "source": [
    "## 2.3 NBA Player Data"
   ]
  },
  {
   "cell_type": "code",
   "execution_count": 2,
   "metadata": {},
   "outputs": [
    {
     "name": "stdout",
     "output_type": "stream",
     "text": [
      "                     name  year_start  year_end position height  weight  \\\n",
      "0          Alaa Abdelnaby        1991      1995      F-C   6-10   240.0   \n",
      "1         Zaid Abdul-Aziz        1969      1978      C-F    6-9   235.0   \n",
      "2     Kareem Abdul-Jabbar        1970      1989        C    7-2   225.0   \n",
      "3      Mahmoud Abdul-Rauf        1991      2001        G    6-1   162.0   \n",
      "4       Tariq Abdul-Wahad        1998      2003        F    6-6   223.0   \n",
      "...                   ...         ...       ...      ...    ...     ...   \n",
      "4544           Ante Zizic        2018      2018      F-C   6-11   250.0   \n",
      "4545             Jim Zoet        1983      1983        C    7-1   240.0   \n",
      "4546            Bill Zopf        1971      1971        G    6-1   170.0   \n",
      "4547          Ivica Zubac        2017      2018        C    7-1   265.0   \n",
      "4548           Matt Zunic        1949      1949      G-F    6-3   195.0   \n",
      "\n",
      "             birth_date                                college  \n",
      "0         June 24, 1968                        Duke University  \n",
      "1         April 7, 1946                  Iowa State University  \n",
      "2        April 16, 1947  University of California, Los Angeles  \n",
      "3         March 9, 1969             Louisiana State University  \n",
      "4      November 3, 1974              San Jose State University  \n",
      "...                 ...                                    ...  \n",
      "4544    January 4, 1997                                    NaN  \n",
      "4545  December 20, 1953                  Kent State University  \n",
      "4546       June 7, 1948                    Duquesne University  \n",
      "4547     March 18, 1997                                    NaN  \n",
      "4548  December 19, 1919           George Washington University  \n",
      "\n",
      "[4549 rows x 8 columns]\n"
     ]
    }
   ],
   "source": [
    "import pandas as pd\n",
    "df = pd.read_csv('files/nba_player.csv')\n",
    "\n",
    "#print compResults csv file\n",
    "print(df)"
   ]
  },
  {
   "cell_type": "code",
   "execution_count": 16,
   "metadata": {},
   "outputs": [
    {
     "name": "stdout",
     "output_type": "stream",
     "text": [
      "------Height Top 10------\n",
      "            name position height\n",
      "      Manute Bol        C    7-7\n",
      "Gheorghe Muresan        C    7-7\n",
      "        Yao Ming        C    7-6\n",
      "   Shawn Bradley        C    7-6\n",
      "    Chuck Nevitt        C    7-5\n",
      "------Height Bottom 10------\n",
      "            name position height\n",
      "Frank Mangiapane        G   5-10\n",
      "       Bob Royer        G   5-10\n",
      "   Zeke Sinicola        G   5-10\n",
      "    Rollie Seltz      G-F   5-10\n",
      "   Brevin Knight        G   5-10\n"
     ]
    }
   ],
   "source": [
    "import pandas as pd\n",
    "\n",
    "#read csv and sort 'Duration' largest to smallest\n",
    "df = pd.read_csv('files/nba_player.csv').sort_values(by=['height'], ascending=False)\n",
    "\n",
    "print(\"------Height Top 10------\")\n",
    "\n",
    "print(df.head(5)[['name','position','height']].to_string(index=False))\n",
    "\n",
    "print(\"------Height Bottom 10------\")\n",
    "print(df.tail(5)[['name','position','height']].to_string(index=False))\n"
   ]
  },
  {
   "attachments": {},
   "cell_type": "markdown",
   "metadata": {},
   "source": [
    "## Reflection\n",
    "- Does it have a good sample size?\n",
    "    - The competition data has a good sample size, and many components to the data, however, there could be more competitors added. But, realistically, a competition results would look like this.\n",
    "    - The NBA data has a very large sample size.\n",
    "- Does the data set need to be cleaned?\n",
    "    - There aren't any pieces of data that need to be cleaned at the moment, however if a string was added in the ranking category it would need to be.\n",
    "- What is the purpose of the data set?\n",
    "    - The purpose of the data set was to show the number of tops, zones, and the ranking of the competitors in a climbing competition.\n",
    "    - The purpose of the NBA data set is to show the stats of the all NBA players since 1950. I used pandas to only print the top five tallest and shortest players."
   ]
  }
 ],
 "metadata": {
  "kernelspec": {
   "display_name": "base",
   "language": "python",
   "name": "python3"
  },
  "language_info": {
   "codemirror_mode": {
    "name": "ipython",
    "version": 3
   },
   "file_extension": ".py",
   "mimetype": "text/x-python",
   "name": "python",
   "nbconvert_exporter": "python",
   "pygments_lexer": "ipython3",
   "version": "3.9.12"
  },
  "orig_nbformat": 4
 },
 "nbformat": 4,
 "nbformat_minor": 2
}
