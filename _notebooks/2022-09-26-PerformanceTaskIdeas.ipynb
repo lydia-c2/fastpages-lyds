{
 "cells": [
  {
   "cell_type": "markdown",
   "metadata": {},
   "source": [
    "# Performance Task Ideas\n",
    "> Brainstorm\n",
    "\n",
    "- toc: false\n",
    "- comments: true\n",
    "- permalink: /notebooks/PerformanceTaskBrainstorm\n",
    "- categories: [week 5]"
   ]
  },
  {
   "cell_type": "markdown",
   "metadata": {},
   "source": [
    "## Scrum Process \n",
    "\n",
    "![]({{site.baseurl}}/images/Scrum Process.png)\n",
    "\n",
    "### Final\n",
    "\n",
    "Game:\n",
    "- snake\n",
    "\n",
    "### Ideas\n",
    "\n",
    "- social media kind of app\n",
    "    - socializing\n",
    "    - connections\n",
    "- game\n",
    "    - play with others\n",
    "    - individual"
   ]
  }
 ],
 "metadata": {
  "kernelspec": {
   "display_name": "Python 3.9.12 ('base')",
   "language": "python",
   "name": "python3"
  },
  "language_info": {
   "name": "python",
   "version": "3.9.12"
  },
  "orig_nbformat": 4,
  "vscode": {
   "interpreter": {
    "hash": "25ccfe66b39282fc3ea19bf8fc3cc43ce18f6044ac6a7f466ec4a156f6861604"
   }
  }
 },
 "nbformat": 4,
 "nbformat_minor": 2
}
