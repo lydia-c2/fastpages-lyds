{
 "cells": [
  {
   "cell_type": "markdown",
   "metadata": {},
   "source": [
    "# Video Notes\n",
    "> Collab Video Notes\n",
    "\n",
    "- toc: false\n",
    "- comments: true\n",
    "- permalink: /notebooks/collabnotes\n",
    "- categories: [week 4]"
   ]
  },
  {
   "cell_type": "markdown",
   "metadata": {},
   "source": [
    "# Goals:\n",
    "Explain how computing innovations are improved through collaboration. Demonstrate effective interpersonal skills during collaboration. Explain how computing innovations are improved through collaboration. Explain hoe computing innovations are developed by groups of people.\n",
    "\n",
    "# Collaboration Importance\n",
    "Collaboration is essential in everyday life\n",
    "Facebook (very successful tech company) says “Effective collaboration produces a computing innovation that reflects the diversity of talents and perspectives of those who designed it.”\n",
    "\n",
    "To create the new and improved Super Mario Brothers, 2 partners listened to each other and used eachother’s ideas to create an even better version\n",
    "interpersonal skills learned through collaboration: communication, consensus building, conflict resolution, negotiation\n",
    "\n",
    "# How to Collborate in APCSP\n",
    "Pair programming (2 programmers): “the driver” writes program code while “the observer/pointer/navigator” reviews each line of program code as it is typed in\n",
    "Think-Pair-Share: students think through a problem alone, pair with a partner to share ideas, then share results with the class\n",
    "Leave comments in your code: communicate to your partner(s), communicate to yourself, acknowleedge code segments/media from other sources, differentiate what you and partner(s) did, clarify the functionality of your code\n",
    "Online tools\n",
    "repl.it (can work together)\n",
    "GitHub (collaboration and repository)\n",
    "Shared document or folder\n",
    "ask friends and family to test drive your program and give you feedback\n",
    "Quiz Results\n"
   ]
  }
 ],
 "metadata": {
  "kernelspec": {
   "display_name": "Python 3.9.12 ('base')",
   "language": "python",
   "name": "python3"
  },
  "language_info": {
   "name": "python",
   "version": "3.9.12"
  },
  "orig_nbformat": 4,
  "vscode": {
   "interpreter": {
    "hash": "25ccfe66b39282fc3ea19bf8fc3cc43ce18f6044ac6a7f466ec4a156f6861604"
   }
  }
 },
 "nbformat": 4,
 "nbformat_minor": 2
}
