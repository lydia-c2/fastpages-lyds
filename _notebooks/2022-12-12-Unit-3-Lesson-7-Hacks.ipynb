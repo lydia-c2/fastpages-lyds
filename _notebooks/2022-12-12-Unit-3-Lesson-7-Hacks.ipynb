{
 "cells": [
  {
   "cell_type": "markdown",
   "metadata": {},
   "source": [
    "# Unit 3.14-3.15 Hacks\n",
    "> My Hacks from Lesson 3.14-3.15\n",
    "\n",
    "- toc: false\n",
    "- comments: true\n",
    "- permalink: /notebooks/U3L7Notes\n",
    "- categories: [week 16]"
   ]
  },
  {
   "cell_type": "markdown",
   "metadata": {},
   "source": [
    "## 3.14 Hacks"
   ]
  },
  {
   "cell_type": "code",
   "execution_count": 7,
   "metadata": {},
   "outputs": [
    {
     "name": "stdout",
     "output_type": "stream",
     "text": [
      "Team Baddies for life\n"
     ]
    }
   ],
   "source": [
    "import random\n",
    "\n",
    "number = random.randint(0,10)\n",
    "\n",
    "if number>3:\n",
    "    print(\"Team Baddies for life\")\n",
    "elif number>6:\n",
    "    print(\"I can't wait for break!\")\n",
    "else: \n",
    "    print(\"APCSP is okay\")"
   ]
  },
  {
   "cell_type": "markdown",
   "metadata": {},
   "source": [
    "In my code, I use import random to allow me to access the \"random\" library. This allows the to choose a random number, which decides which statement will print. If the random number chosen is less than 3, \"Team Baddies for life\" will print. If it is less than 6, \"I can't wait for break!\" will print. If any other is chosen, \"APSCP is okay\" will print."
   ]
  },
  {
   "cell_type": "markdown",
   "metadata": {},
   "source": [
    "## 3.15.2 Hacks\n",
    "#### a. \n",
    "An import random function generates a random number between two integers. When calling the random functi.on to get a random number, you will set two parameters to set a boundary of numbers it can choose from. \n",
    "\n",
    "#### b. \n",
    "You can import math to use commands like math.sqrt to find the square root of integers. Import flask and colorama are two more imports.\n",
    "\n",
    "#### NOTE\n",
    "You can use \"pip install\" to install a library you don't have yet. "
   ]
  },
  {
   "cell_type": "markdown",
   "metadata": {},
   "source": [
    "## 3.15.2 Hacks"
   ]
  },
  {
   "cell_type": "code",
   "execution_count": 11,
   "metadata": {},
   "outputs": [
    {
     "name": "stdout",
     "output_type": "stream",
     "text": [
      "blue\n"
     ]
    }
   ],
   "source": [
    "import random\n",
    "spinner = random.randint(1,8)\n",
    "\n",
    "if spinner<=3:\n",
    "    print(\"green\")\n",
    "elif spinner<=5:\n",
    "    print(\"blue\")\n",
    "elif spinner==6:\n",
    "    print(\"purple\")\n",
    "elif spinner==7:\n",
    "    print(\"red\")\n",
    "else:\n",
    "    print(\"orange)\")"
   ]
  },
  {
   "cell_type": "markdown",
   "metadata": {},
   "source": [
    "##### What numbers can be outputted from RANDOM(12,20) and what numbers are excluded?\n",
    "- Numbers 12 through 20 will be outputted, all other numbers outside this range are excluded."
   ]
  }
 ],
 "metadata": {
  "kernelspec": {
   "display_name": "Python 3.9.12 ('base')",
   "language": "python",
   "name": "python3"
  },
  "language_info": {
   "codemirror_mode": {
    "name": "ipython",
    "version": 3
   },
   "file_extension": ".py",
   "mimetype": "text/x-python",
   "name": "python",
   "nbconvert_exporter": "python",
   "pygments_lexer": "ipython3",
   "version": "3.9.12"
  },
  "orig_nbformat": 4,
  "vscode": {
   "interpreter": {
    "hash": "25ccfe66b39282fc3ea19bf8fc3cc43ce18f6044ac6a7f466ec4a156f6861604"
   }
  }
 },
 "nbformat": 4,
 "nbformat_minor": 2
}
