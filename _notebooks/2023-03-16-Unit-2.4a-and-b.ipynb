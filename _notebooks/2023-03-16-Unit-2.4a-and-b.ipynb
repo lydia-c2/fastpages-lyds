{
 "cells": [
  {
   "attachments": {},
   "cell_type": "markdown",
   "metadata": {},
   "source": [
    "#  Unit 2.4a-b Hacks\n",
    "> Hacks and Quiz Results for Week 26\n",
    "- toc: false\n",
    "- comments: true\n",
    "- categories: [Week 26]"
   ]
  },
  {
   "attachments": {},
   "cell_type": "markdown",
   "metadata": {},
   "source": [
    "#### Create the SQLITE Table/Database"
   ]
  },
  {
   "cell_type": "code",
   "execution_count": 2,
   "metadata": {},
   "outputs": [],
   "source": [
    "\"\"\"\n",
    "These imports define the key objects\n",
    "\"\"\"\n",
    "\n",
    "from flask import Flask\n",
    "from flask_sqlalchemy import SQLAlchemy\n",
    "\n",
    "\"\"\"\n",
    "These object and definitions are used throughout the Jupyter Notebook.\n",
    "\"\"\"\n",
    "\n",
    "# Setup of key Flask object (app)\n",
    "app = Flask(__name__)\n",
    "# Setup SQLAlchemy object and properties for the database (db)\n",
    "database = 'sqlite:///sqlite.db'  # path and filename of database\n",
    "app.config['SQLALCHEMY_TRACK_MODIFICATIONS'] = False\n",
    "app.config['SQLALCHEMY_DATABASE_URI'] = database\n",
    "app.config['SECRET_KEY'] = 'SECRET_KEY'\n",
    "db = SQLAlchemy()\n",
    "\n",
    "\n",
    "# This belongs in place where it runs once per project\n",
    "db.init_app(app)\n"
   ]
  },
  {
   "attachments": {},
   "cell_type": "markdown",
   "metadata": {},
   "source": [
    "#### Defining variables to match with CPT Project"
   ]
  },
  {
   "cell_type": "code",
   "execution_count": 3,
   "metadata": {},
   "outputs": [],
   "source": [
    "\"\"\" database dependencies to support sqlite examples \"\"\"\n",
    "import datetime\n",
    "from datetime import datetime\n",
    "import json\n",
    "\n",
    "from sqlalchemy.exc import IntegrityError\n",
    "from werkzeug.security import generate_password_hash, check_password_hash\n",
    "\n",
    "\n",
    "''' Tutorial: https://www.sqlalchemy.org/library.html#tutorials, try to get into a Python shell and follow along '''\n",
    "\n",
    "# Define the User class to manage actions in the 'users' table\n",
    "# -- Object Relational Mapping (ORM) is the key concept of SQLAlchemy\n",
    "# -- a.) db.Model is like an inner layer of the onion in ORM\n",
    "# -- b.) User represents data we want to store, something that is built on db.Model\n",
    "# -- c.) SQLAlchemy ORM is layer on top of SQLAlchemy Core, then SQLAlchemy engine, SQL\n",
    "class Workout(db.Model):\n",
    "    __tablename__ = 'workouts'  # table name is plural, class name is singular\n",
    "\n",
    "    # Define the User schema with \"vars\" from object\n",
    "    id = db.Column(db.Integer, primary_key=True)\n",
    "    _workoutName = db.Column(db.String(255), unique=True, nullable=False)\n",
    "    _sets = db.Column(db.Integer, unique=False, nullable=False)\n",
    "    _reps = db.Column(db.Integer, unique=False, nullable=False)\n",
    "\n",
    "    # constructor of a User object, initializes the instance variables within object (self)\n",
    "    def __init__(self, workoutName, sets, reps):\n",
    "        self._workoutName = workoutName    # variables with self prefix become part of the object, \n",
    "        self._sets = sets\n",
    "        self._reps = reps\n",
    "        ##if isinstance(dob, str):  # not a date type     \n",
    "            #dob = date=datetime.today()\n",
    "        #self._dob = dob\n",
    "\n",
    "    # a name getter method, extracts workout name from object\n",
    "    @property\n",
    "    def workoutName(self):\n",
    "        return self._workoutName\n",
    "    \n",
    "    # a setter function, allows the workout name to be updated after initial object creation\n",
    "    \n",
    "    @workoutName.setter\n",
    "    def workoutName(self, workoutName):\n",
    "        self._workoutName = workoutName\n",
    "     # dob property is returned as string, to avoid unfriendly outcomes\n",
    "        # a sets getter method, extracts sets from object\n",
    "    @property\n",
    "    def sets(self):\n",
    "        return self._sets\n",
    "    \n",
    "    # a setter function, allows the sets to be updated after initial object creation\n",
    "    @sets.setter\n",
    "    def sets(self, sets):\n",
    "        self._sets = sets\n",
    "\n",
    "    # a repetitions getter method, extracts reps from object\n",
    "    @property\n",
    "    def reps(self):\n",
    "        return self._reps\n",
    "    \n",
    "    # a setter function, allows the repetitions to be updated after initial object creation\n",
    "    @reps.setter\n",
    "    def reps(self, reps):\n",
    "        self._reps = reps\n",
    " \n",
    "\n",
    "     # a getter method, id for no duplicates\n",
    "    #@property\n",
    "    #def workoutName(self):\n",
    "        #return self._workoutName\n",
    "    \n",
    "    # a setter function, allows name to be updated after initial object creation - setting the workout name as the uid\n",
    "    #@workoutName.setter\n",
    "    #def uid(self, workoutName):\n",
    "        #self._workoutName = workoutName\n",
    "        \n",
    "    # check if uid parameter matches user id in object, return boolean NO UID\n",
    "    #def is_workoutName(self, workoutName):\n",
    "        #return self._workoutName == workoutName\n",
    "    \n",
    "    # output content using str(object) in human readable form, uses getter\n",
    "    # output content using json dumps, this is ready for API response\n",
    "    def __str__(self):\n",
    "        return json.dumps(self.read())\n",
    "\n",
    "    # CRUD create/add a new record to the table\n",
    "    # returns self or None on error\n",
    "    def create(self):\n",
    "        try:\n",
    "            # creates a person object from User(db.Model) class, passes initializers\n",
    "            db.session.add(self)  # add prepares to persist person object to Users table\n",
    "            db.session.commit()  # SqlAlchemy \"unit of work pattern\" requires a manual commit\n",
    "            return self\n",
    "        except IntegrityError:\n",
    "            db.session.remove()\n",
    "            return None\n",
    "\n",
    "    # CRUD read converts self to dictionary\n",
    "    # returns dictionary\n",
    "    def read(self):\n",
    "        return {\n",
    "            \"id\": self.id,\n",
    "            \"workoutName\": self.workoutName,\n",
    "            \"sets\": self.sets,\n",
    "            \"reps\": self.reps,\n",
    "        }\n",
    "\n",
    "    # CRUD update: updates user name, password, phone\n",
    "    # returns self\n",
    "    def update(self, workoutName=\"\", sets=\"\", reps=\"\"):\n",
    "        \"\"\"only updates values with length\"\"\"\n",
    "        if len(workoutName) > 0:\n",
    "            self.workoutName = workoutName\n",
    "        if len(sets) > 0:\n",
    "            self.sets = sets\n",
    "        if len(reps) > 0:\n",
    "            self.reps = reps\n",
    "        db.session.commit()\n",
    "        return self\n",
    "\n",
    "    # CRUD delete: remove self\n",
    "    # None\n",
    "    def delete(self):\n",
    "        db.session.delete(self)\n",
    "        db.session.commit()\n",
    "        return None\n",
    "    "
   ]
  },
  {
   "attachments": {},
   "cell_type": "markdown",
   "metadata": {},
   "source": [
    "#### Tester Data"
   ]
  },
  {
   "cell_type": "code",
   "execution_count": 4,
   "metadata": {},
   "outputs": [
    {
     "name": "stdout",
     "output_type": "stream",
     "text": [
      "Created new workout Frenchies\n",
      "Created new workout Slow Negatives\n",
      "Created new workout 90 Degree Lock-Off\n",
      "Created new workout Pull-Ups\n",
      "Created new workout Scapular Pull-Ups\n",
      "Created new workout Symmetric Moves\n"
     ]
    }
   ],
   "source": [
    "\"\"\"Database Creation and Testing \"\"\"\n",
    "\n",
    "\n",
    "# Builds working data for testing\n",
    "def initWorkouts():\n",
    "    with app.app_context():\n",
    "        \"\"\"Create database and tables\"\"\"\n",
    "        db.create_all()\n",
    "        \"\"\"Tester data for table\"\"\"\n",
    "        u1 = Workout(workoutName='Frenchies', sets=3, reps=3)\n",
    "        u2 = Workout(workoutName='Slow Negatives', sets=3, reps=15)\n",
    "        u3 = Workout(workoutName='90 Degree Lock-Off', sets=3, reps=5)\n",
    "        u4 = Workout(workoutName='Pull-Ups', sets=3, reps=5)\n",
    "        u5 = Workout(workoutName='Scapular Pull-Ups', sets=3, reps=5)\n",
    "        u6 = Workout(workoutName='Symmetric Moves', sets=3, reps=8)\n",
    "\n",
    "\n",
    "        workouts = [u1, u2, u3, u4, u5, u6]\n",
    "\n",
    "        \"\"\"Builds sample user/note(s) data\"\"\"\n",
    "        for workout in workouts:\n",
    "            try:\n",
    "                '''add workout to table'''\n",
    "                object = workout.create()\n",
    "                print(f\"Created new workout {object.workoutName}\")\n",
    "            except:  # error raised if object nit created\n",
    "                '''fails with bad or duplicate data'''\n",
    "                print(f\"Records exist workout {workout.workoutName}, or error.\")\n",
    "                \n",
    "initWorkouts()"
   ]
  },
  {
   "attachments": {},
   "cell_type": "markdown",
   "metadata": {},
   "source": [
    "#### Schema"
   ]
  },
  {
   "cell_type": "code",
   "execution_count": 6,
   "metadata": {},
   "outputs": [
    {
     "name": "stdout",
     "output_type": "stream",
     "text": [
      "(0, 'id', 'INTEGER', 1, None, 1)\n",
      "(1, '_workoutName', 'VARCHAR(255)', 1, None, 0)\n",
      "(2, '_sets', 'INTEGER', 1, None, 0)\n",
      "(3, '_reps', 'INTEGER', 1, None, 0)\n"
     ]
    }
   ],
   "source": [
    "import sqlite3\n",
    "\n",
    "database = 'instance/sqlite.db' # this is location of database\n",
    "\n",
    "def schema():\n",
    "    \n",
    "    # Connect to the database file\n",
    "    conn = sqlite3.connect(database)\n",
    "\n",
    "    # Create a cursor object to execute SQL queries\n",
    "    cursor = conn.cursor()\n",
    "    \n",
    "    # Fetch results of Schema\n",
    "    results = cursor.execute(\"PRAGMA table_info('workouts')\").fetchall()\n",
    "\n",
    "    # Print the results\n",
    "    for row in results:\n",
    "        print(row)\n",
    "\n",
    "    # Close the database connection\n",
    "    conn.close()\n",
    "    \n",
    "schema()"
   ]
  },
  {
   "attachments": {},
   "cell_type": "markdown",
   "metadata": {},
   "source": [
    "#### Read data"
   ]
  },
  {
   "cell_type": "code",
   "execution_count": 7,
   "metadata": {},
   "outputs": [
    {
     "name": "stdout",
     "output_type": "stream",
     "text": [
      "(1, 'Frenchies', 3, 3)\n",
      "(2, 'Slow Negatives', 3, 15)\n",
      "(3, '90 Degree Lock-Off', 3, 5)\n",
      "(4, 'Pull-Ups', 3, 5)\n",
      "(5, 'Scapular Pull-Ups', 3, 5)\n",
      "(6, 'Symmetric Moves', 3, 8)\n"
     ]
    }
   ],
   "source": [
    "import sqlite3\n",
    "\n",
    "def read():\n",
    "    # Connect to the database file\n",
    "    conn = sqlite3.connect(database)\n",
    "\n",
    "    # Create a cursor object to execute SQL queries\n",
    "    cursor = conn.cursor()\n",
    "    \n",
    "    # Execute a SELECT statement to retrieve data from a table\n",
    "    results = cursor.execute('SELECT * FROM workouts').fetchall()\n",
    "\n",
    "    # Print the results\n",
    "    if len(results) == 0:\n",
    "        print(\"Table is empty\")\n",
    "    else:\n",
    "        for row in results:\n",
    "            print(row)\n",
    "\n",
    "    # Close the cursor and connection objects\n",
    "    cursor.close()\n",
    "    conn.close()\n",
    "    \n",
    "read()\n"
   ]
  },
  {
   "attachments": {},
   "cell_type": "markdown",
   "metadata": {},
   "source": [
    "## Adding new workout to table and printing (CREATE)"
   ]
  },
  {
   "cell_type": "code",
   "execution_count": 8,
   "metadata": {},
   "outputs": [
    {
     "name": "stdout",
     "output_type": "stream",
     "text": [
      "A new workout record Circuits has been created\n",
      "(1, 'Frenchies', 3, 3)\n",
      "(2, 'Slow Negatives', 3, 15)\n",
      "(3, '90 Degree Lock-Off', 3, 5)\n",
      "(4, 'Pull-Ups', 3, 5)\n",
      "(5, 'Scapular Pull-Ups', 3, 5)\n",
      "(6, 'Symmetric Moves', 3, 8)\n",
      "(7, 'Circuits', 4, 4)\n"
     ]
    }
   ],
   "source": [
    "import sqlite3\n",
    "\n",
    "### CREATING A NEW WORKOUT IN DATABASE\n",
    "\n",
    "\n",
    "def create():\n",
    "    workoutName = input(str(\"Insert workout name\"))\n",
    "    sets = input((\"insert number of sets\"))\n",
    "    reps = input((\"Insert number of repetitions\"))\n",
    "    \n",
    "    # Connect to the database file\n",
    "    conn = sqlite3.connect(database)\n",
    "\n",
    "    # Create a cursor object to execute SQL commands\n",
    "    cursor = conn.cursor()\n",
    "\n",
    "    try:\n",
    "        # Execute an SQL command to insert data into a table\n",
    "        cursor.execute(\"INSERT INTO workouts (_workoutName, _sets, _reps) VALUES (?, ?, ?)\", (workoutName, sets, reps))\n",
    "        \n",
    "        # Commit the changes to the database\n",
    "        conn.commit()\n",
    "        print(f\"A new workout record {workoutName} has been created\")\n",
    "                \n",
    "    except sqlite3.Error as error:\n",
    "        print(\"Error while executing the INSERT:\", error)\n",
    "\n",
    "\n",
    "    # Close the cursor and connection objects\n",
    "    cursor.close()\n",
    "    conn.close()\n",
    "    \n",
    "create()\n",
    "read()"
   ]
  },
  {
   "cell_type": "code",
   "execution_count": 11,
   "metadata": {},
   "outputs": [
    {
     "name": "stdout",
     "output_type": "stream",
     "text": [
      "No workout named Circuits was not found in the table\n",
      "(1, 'Frenchies', 3, 3)\n",
      "(2, 'Slow Negatives', 3, 15)\n",
      "(3, '90 Degree Lock-Off', 3, 5)\n",
      "(4, 'Pull-Ups', 3, 5)\n",
      "(5, 'Scapular Pull-Ups', 3, 5)\n",
      "(6, 'Symmetric Moves', 3, 8)\n"
     ]
    }
   ],
   "source": [
    "import sqlite3\n",
    "\n",
    "def update():\n",
    "    workoutName = input(\"Enter which workout you would like to update\")\n",
    "    sets = input(\"Enter updated number of sets\")\n",
    "    if len(sets) < 0:\n",
    "        message = \"none\"\n",
    "        sets = 1\n",
    "    else:\n",
    "        message = \"successfully updated\"\n",
    "\n",
    "    # Connect to the database file\n",
    "    conn = sqlite3.connect(database)\n",
    "\n",
    "    # Create a cursor object to execute SQL commands\n",
    "    cursor = conn.cursor()\n",
    "\n",
    "    try:\n",
    "        # Execute an SQL command to update data in a table\n",
    "        cursor.execute(\"UPDATE workouts SET _sets = ? WHERE _workoutName = ?\", (sets, workoutName))\n",
    "        if cursor.rowcount == 0:\n",
    "            # The uid was not found in the table\n",
    "            print(f\"No workout named {workoutName} was not found in the table\")\n",
    "        else:\n",
    "            print(f\"The row with workout named {workoutName} the number of sets has been {message}\")\n",
    "            conn.commit()\n",
    "    except sqlite3.Error as error:\n",
    "        print(\"Error while executing the UPDATE:\", error)\n",
    "        \n",
    "    \n",
    "    # Close the cursor and connection objects\n",
    "    cursor.close()\n",
    "    conn.close()\n",
    "    \n",
    "update()\n",
    "read()\n"
   ]
  },
  {
   "attachments": {},
   "cell_type": "markdown",
   "metadata": {},
   "source": [
    "## Deleting from Table and print (DELETE)"
   ]
  },
  {
   "cell_type": "code",
   "execution_count": 10,
   "metadata": {},
   "outputs": [
    {
     "name": "stdout",
     "output_type": "stream",
     "text": [
      "The row with name Circuits was successfully deleted\n",
      "(1, 'Frenchies', 3, 3)\n",
      "(2, 'Slow Negatives', 3, 15)\n",
      "(3, '90 Degree Lock-Off', 3, 5)\n",
      "(4, 'Pull-Ups', 3, 5)\n",
      "(5, 'Scapular Pull-Ups', 3, 5)\n",
      "(6, 'Symmetric Moves', 3, 8)\n"
     ]
    }
   ],
   "source": [
    "import sqlite3\n",
    "\n",
    "def delete():\n",
    "    workoutName = input(\"Enter workout name to delete\")\n",
    "\n",
    "    # Connect to the database file\n",
    "    conn = sqlite3.connect(database)\n",
    "\n",
    "    # Create a cursor object to execute SQL commands\n",
    "    cursor = conn.cursor()\n",
    "    \n",
    "    try:\n",
    "        cursor.execute(\"DELETE FROM workouts WHERE _workoutName = ?\", (workoutName,))\n",
    "        if cursor.rowcount == 0:\n",
    "            # The workout was not found in the table\n",
    "            print(f\"No workout named {workoutName} was not found in the table\")\n",
    "        else:\n",
    "            # The workout was found in the table and the row was deleted\n",
    "            print(f\"The row with name {workoutName} was successfully deleted\")\n",
    "        conn.commit()\n",
    "    except sqlite3.Error as error:\n",
    "        print(\"Error while executing the DELETE:\", error)\n",
    "        \n",
    "    # Close the cursor and connection objects\n",
    "    cursor.close()\n",
    "    conn.close()\n",
    "    \n",
    "delete()\n",
    "\n",
    "read()"
   ]
  },
  {
   "attachments": {},
   "cell_type": "markdown",
   "metadata": {},
   "source": [
    "### CRUD "
   ]
  },
  {
   "cell_type": "code",
   "execution_count": 13,
   "metadata": {},
   "outputs": [
    {
     "name": "stdout",
     "output_type": "stream",
     "text": [
      "The row with name Burpees was successfully deleted\n",
      "(1, 'Frenchies', 3, 3)\n",
      "(2, 'Slow Negatives', 3, 15)\n",
      "(3, '90 Degree Lock-Off', 3, 5)\n",
      "(4, 'Pull-Ups', 3, 5)\n",
      "(5, 'Scapular Pull-Ups', 3, 5)\n",
      "(6, 'Symmetric Moves', 3, 8)\n"
     ]
    }
   ],
   "source": [
    "# Menu, to run other cells from one control point\n",
    "\n",
    "## UPDATE IS NOT USED\n",
    "\n",
    "def menu():\n",
    "    operation = input(\"Enter: (C)reate (R)ead (U)pdate or (D)elete or (S)chema\")\n",
    "    if operation.lower() == 'c':\n",
    "        create()\n",
    "    elif operation.lower() == 'r':\n",
    "        read()\n",
    "    elif operation.lower() == 'u':\n",
    "        update()\n",
    "    elif operation.lower() == 'd':\n",
    "        delete()\n",
    "    elif operation.lower() == 's':\n",
    "        schema()\n",
    "    elif len(operation)==0: # Escape Key\n",
    "        return\n",
    "    else:\n",
    "        print(\"Please enter c, r, u, or d\") \n",
    "    menu() # recursion, repeat menu - CAUSES IT TO KEEP RUNNING\n",
    "        \n",
    "try:\n",
    "    menu() # start menu\n",
    "except:\n",
    "    print(\"Perform Jupyter 'Run All' prior to starting menu\")\n"
   ]
  },
  {
   "attachments": {},
   "cell_type": "markdown",
   "metadata": {},
   "source": [
    "OOP -class\n",
    "Imperative - functions"
   ]
  }
 ],
 "metadata": {
  "kernelspec": {
   "display_name": "base",
   "language": "python",
   "name": "python3"
  },
  "language_info": {
   "codemirror_mode": {
    "name": "ipython",
    "version": 3
   },
   "file_extension": ".py",
   "mimetype": "text/x-python",
   "name": "python",
   "nbconvert_exporter": "python",
   "pygments_lexer": "ipython3",
   "version": "3.9.12"
  },
  "orig_nbformat": 4
 },
 "nbformat": 4,
 "nbformat_minor": 2
}
