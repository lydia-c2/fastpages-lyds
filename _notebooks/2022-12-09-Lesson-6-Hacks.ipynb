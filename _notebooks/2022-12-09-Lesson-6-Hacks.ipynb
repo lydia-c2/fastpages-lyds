{
 "cells": [
  {
   "cell_type": "markdown",
   "metadata": {},
   "source": [
    "# Unit 3.12-3.13 Hacks\n",
    "> My Hacks from Lesson 3.12-3.13\n",
    "\n",
    "- toc: false\n",
    "- comments: true\n",
    "- permalink: /notebooks/U3L6Notes\n",
    "- categories: [week 15]"
   ]
  },
  {
   "cell_type": "markdown",
   "metadata": {},
   "source": [
    "\n",
    "## 3.12 Hacks\n",
    "\n",
    "##### Procedure:\n",
    "- A procedure is a piece of code that is made to have accomplish a certain goal (like a function)\n",
    "\n",
    "##### Parameter:\n",
    "- A parameter is a variable that allows data to be imported into a function. \n",
    "    - A parameter can look like \"a\" and \"b\" in random.randint(a,b)\n",
    "\n",
    "##### Return Value:\n",
    " - A return value is a value that returns to a procedure using a return statement\n",
    "    - Python to continues executing the program and returns a certain value (Return Value)\n",
    "    - Using a return statement \n",
    " \n",
    "### Quiz Score"
   ]
  },
  {
   "cell_type": "code",
   "execution_count": 1,
   "metadata": {},
   "outputs": [
    {
     "name": "stdout",
     "output_type": "stream",
     "text": [
      "Question: What is are correct names for a procedure? \n",
      " A) Method \n",
      " B) Function \n",
      " C) Both\n",
      "Answer: c\n",
      "Correct :) \n",
      "\n",
      "Question: What is a procedure? \n",
      " A) Sequencing \n",
      " B) Selection \n",
      " C) Iteration \n",
      " D) All\n",
      "Answer: d\n",
      "Correct :) \n",
      "\n",
      "Question: Use this for following question: \n",
      " def inchesToFeet(lengthInches): \n",
      "\t lengthFeet = lengthInches / 12 \n",
      "\t return lengthFeet \n",
      "\n",
      " What is the procedure name, the parameter, and what the procedure returns? \n",
      " A) feetToInches, lengthInches, lengthMeters \n",
      " B) inchesToFeet, lengthInches, lengthFeet \n",
      " C) inchesToFeet, lengthFeet, lengthInches \n",
      " D) lengthInches, inchesToFeet, lengthFeet\n",
      "Answer: b\n",
      "Correct :) \n",
      "\n",
      "Score: 3 / 3\n"
     ]
    }
   ],
   "source": [
    "questionNum = 3\n",
    "correct = 0\n",
    "questions = [\n",
    "    \"What is are correct names for a procedure? \\n A) Method \\n B) Function \\n C) Both\",\n",
    "    \"What is a procedure? \\n A) Sequencing \\n B) Selection \\n C) Iteration \\n D) All\",\n",
    "    \"Use this for following question: \\n def inchesToFeet(lengthInches): \\n\\t lengthFeet = lengthInches / 12 \\n\\t return lengthFeet \\n\\n What is the procedure name, the parameter, and what the procedure returns? \\n A) feetToInches, lengthInches, lengthMeters \\n B) inchesToFeet, lengthInches, lengthFeet \\n C) inchesToFeet, lengthFeet, lengthInches \\n D) lengthInches, inchesToFeet, lengthFeet\"]\n",
    "answers = [\"c\", \"d\", \"b\"]\n",
    "\n",
    "def qna(question, answer):\n",
    "    print(\"Question:\", question)\n",
    "    response = input()\n",
    "    print(\"Answer:\", response)\n",
    "    \n",
    "    if response.lower() == answer:\n",
    "        print(\"Correct :) \\n\")\n",
    "        global correct\n",
    "        correct += 1\n",
    "    else:\n",
    "        print(\"Incorrect :( \\n\")\n",
    "for x in range(questionNum):\n",
    "    qna(questions[x], answers[x])\n",
    "    \n",
    "print(\"Score:\", correct, \"/ 3\")"
   ]
  },
  {
   "cell_type": "markdown",
   "metadata": {},
   "source": [
    "#### Square Root"
   ]
  },
  {
   "cell_type": "code",
   "execution_count": 10,
   "metadata": {},
   "outputs": [
    {
     "name": "stdout",
     "output_type": "stream",
     "text": [
      "2.0\n"
     ]
    }
   ],
   "source": [
    "import math\n",
    "\n",
    "def square_root():\n",
    "    x = int(input(\"Input a number\"))\n",
    "    print(math.sqrt(x))\n",
    "\n",
    "square_root()"
   ]
  },
  {
   "cell_type": "markdown",
   "metadata": {},
   "source": [
    "## Abstraction\n",
    "\n",
    "This code needed abstraction so that I wouldn't have to write the code out multiple times, which to allowed it to be more concise."
   ]
  },
  {
   "cell_type": "code",
   "execution_count": 19,
   "metadata": {},
   "outputs": [
    {
     "name": "stdout",
     "output_type": "stream",
     "text": [
      "Qualified for Regionals\n"
     ]
    }
   ],
   "source": [
    "\n",
    "place1 = int(input(\"Enter your score\"))\n",
    "place2 = int(input(\"Enter your score\"))\n",
    "combined = place1 + place2\n",
    "def function(combined):\n",
    "    if combined:\n",
    "        print(\"Qualified for Regionals\")\n",
    "    else:\n",
    "        print(\"Not qualified\")\n",
    "\n",
    "function(combined)"
   ]
  },
  {
   "cell_type": "code",
   "execution_count": 30,
   "metadata": {},
   "outputs": [
    {
     "name": "stdout",
     "output_type": "stream",
     "text": [
      "Words starting with your letter: 2\n"
     ]
    }
   ],
   "source": [
    "# this function takes a string as input and returns a list of words, where each word\n",
    "# is a separate element in the list\n",
    "def split_string(s):\n",
    "    # use the split() method to split the string into a list of words\n",
    "    words = s.split(\" \")\n",
    "\n",
    "\t# initialize a new list to hold all non-empty strings\n",
    "    new_words = []\n",
    "    for word in words:\n",
    "        if word != \"\":\n",
    "            # add all non-empty substrings of `words` to `new_words`\n",
    "            new_words.append(word)\n",
    "    \n",
    "    return words\n",
    "\n",
    "# this function takes a list of words as input and returns the number of words\n",
    "# that start with the given letter (case-insensitive)\n",
    "def count_words_starting_with_letter(words, letter):\n",
    "    count = 0\n",
    "    \n",
    "    # loop through the list of words and check if each word starts with the given letter\n",
    "    for word in words:\n",
    "        # use the lower() method to make the comparison case-insensitive\n",
    "        if word.lower().startswith(letter):\n",
    "            count += 1\n",
    "    \n",
    "    return count\n",
    "\n",
    "# this function takes a string as input and returns the number of words that start with 'a'\n",
    "def count_words_starting_with_a_in_string(s):\n",
    "    # use the split_string() function to split the input string into a list of words\n",
    "    words = split_string(s)\n",
    "    \n",
    "    # use the count_words_starting_with_letter() function to count the number of words\n",
    "    # that start with 'a' in the list of words\n",
    "    count = count_words_starting_with_letter(words, \"a\")\n",
    "    \n",
    "    return count\n",
    "\n",
    "# see above\n",
    "def count_words_starting_with_d_in_string(s):\n",
    "    words = split_string(s)\n",
    "    count = count_words_starting_with_letter(words, \"d\")\n",
    "    return count\n",
    "\n",
    "\n",
    "\n",
    "\n",
    "\n",
    "## MY HACK FOR 3.13 BELOW\n",
    "\n",
    "def count_words_starting_with_x_letter(s):\n",
    "    x = input(\"Input a letter\")\n",
    "    words = split_string(s)\n",
    "    count = count_words_starting_with_letter(words, x)\n",
    "    return count\n",
    "\n",
    "\n",
    "s = \"   Now you can choose which letter you want to test \"\n",
    "a_count = count_words_starting_with_a_in_string(s)\n",
    "d_count = count_words_starting_with_d_in_string(s)\n",
    "x_count = count_words_starting_with_x_letter(s)\n",
    "print(\"Words starting with your letter:\", x_count)\n",
    "\n",
    "\n",
    "\n",
    "## ADD another function (ask for letter and then check which one)\n",
    "# Define x = input\n",
    "# count = count words starting with letter (words, x)"
   ]
  },
  {
   "cell_type": "markdown",
   "metadata": {},
   "source": [
    "## 3.13 3.C HACKS\n",
    "\n",
    "### Procedure Name:\n",
    "The name of a function\n",
    "\n",
    "### Arguments:\n",
    "An argument provides data to a function\n",
    "- Often defined outside of a function\n",
    "- Imported into function via parameters\n",
    "\n",
    "\n",
    "### Buttons in Javascript\n",
    "\n",
    "\n",
    "<button id=\"enter\" onclick=\"print(a,b)\">ADD</button>\n",
    "<p id=\"result\"></p>\n",
    "<script>\n",
    "    function print(a+b) {\n",
    "        document.getElementById(\"result\").innerHTML = a + b\n",
    "    }\n",
    "    var a = 5\n",
    "    var b = 5\n",
    "</script>\n",
    "\n",
    "```html\n",
    "<!-- function is called here -->\n",
    "<button id=\"enter\" onclick=\"print(a,b)\">ADD</button> \n",
    "<p id=\"result\"></p>\n",
    "<!-- javascript -->\n",
    "<script>\n",
    "    function print(a,b) {\n",
    "        document.getElementById(\"result\").innerHTML = a + b // math\n",
    "    }\n",
    "    // variables are defined\n",
    "    var a = 5\n",
    "    var b = 5\n",
    "</script>\n",
    "```\n"
   ]
  },
  {
   "cell_type": "markdown",
   "metadata": {},
   "source": [
    "\n",
    "<button id=\"enter\" onclick=\"print(a,b)\">SUBTRACT</button>\n",
    "<p id=\"result\"></p>\n",
    "<script>\n",
    "    function print(a-b) {\n",
    "        document.getElementById(\"result\").innerHTML = a-b\n",
    "    }\n",
    "    var a = 10\n",
    "    var b = 5\n",
    "</script>\n",
    "\n",
    "```html\n",
    "<!-- function is called here -->\n",
    "<button id=\"enter\" onclick=\"print(a,b)\">SUBTRACT</button> \n",
    "<p id=\"result\"></p>\n",
    "<!-- javascript -->\n",
    "<script>\n",
    "    function print(a,b) {\n",
    "        document.getElementById(\"result\").innerHTML = a-b // math\n",
    "    }\n",
    "    // variables are defined\n",
    "    var a = 10\n",
    "    var b = 5\n",
    "</script>\n",
    "```\n"
   ]
  },
  {
   "cell_type": "markdown",
   "metadata": {},
   "source": [
    "\n",
    "<button id=\"enter\" onclick=\"print(a,b)\">MULTIPLY</button>\n",
    "<p id=\"result\"></p>\n",
    "<script>\n",
    "    function print(a,b) {\n",
    "        document.getElementById(\"result\").innerHTML = a * b\n",
    "    }\n",
    "    var a = 5\n",
    "    var b = 5\n",
    "</script>\n",
    "\n",
    "```html\n",
    "<!-- function is called here -->\n",
    "<button id=\"enter\" onclick=\"print(a,b)\">MULTIPLY</button> \n",
    "<p id=\"result\"></p>\n",
    "<!-- javascript -->\n",
    "<script>\n",
    "    function print(a-b) {\n",
    "        document.getElementById(\"result\").innerHTML = a * b // math\n",
    "    }\n",
    "    // variables are defined\n",
    "    var a = 5\n",
    "    var b = 5\n",
    "</script>\n",
    "```"
   ]
  },
  {
   "cell_type": "markdown",
   "metadata": {},
   "source": [
    "\n",
    "\n",
    "### Vocabulary\n",
    "\n",
    "- **Modularity** - the practice of breaking a complex program into smaller, independent parts or modules that can be used and reused in different parts of the program\n",
    "- **Abstraction** - the practice of hiding the details of how a particular code or system works and exposing only the essential features or functions that are necessary for other parts of the program to use\n",
    "- **Duplication** - having multiple duplicate code blocks, often decreasing readability and efficiency\n",
    "- **Logic** - the sequence of steps and operations that a computer follows to execute a program, including the specific instructions and decision-making processes built into the code\n",
    "\n",
    "\n",
    "### 3.13 Vocabulary\n",
    "\n",
    "- <font color=\"#ffffc2\" style=\"font-weight: bold\">Procedure</font> - a module of code that is created to complete a certain task, this is basically a function\n",
    "- <font color=\"#ffffc2\" style=\"font-weight: bold\">Procedure Name</font> - the name that is given to a function/procedure\n",
    "- <font color=\"#ffffc2\" style=\"font-weight: bold\">Parameters</font> - a variable that is used in a function to allow for data to be imported into a function\n",
    "- <font color=\"#ffffc2\" style=\"font-weight: bold\">Arguments</font> - a way to provide information to a function, usually defined outside a function and then imported into a function with parameters\n",
    "\n",
    "### 3.13 Questions\n",
    "\n",
    "```javascript\n",
    "function compare(a,b) {\n",
    "    if(a>b) {\n",
    "        console.log(\"a is greater than b\")\n",
    "    } else if (a<b) {\n",
    "        console.log(\"a is less than b\")\n",
    "    }\n",
    "}\n",
    "\n",
    "// How do you call to this function?\n",
    "\n",
    "```\n",
    "\n",
    "#### what are the parameters?\n",
    "- a and b\n",
    "\n",
    "#### What is the output?\n",
    "- \"a is greater than b\" or \"a is less than b\"\n",
    "\n",
    "#### what are the arguments?\n",
    "- (a,>b), (a< b)"
   ]
  },
  {
   "cell_type": "code",
   "execution_count": null,
   "metadata": {},
   "outputs": [],
   "source": []
  }
 ],
 "metadata": {
  "kernelspec": {
   "display_name": "Python 3.9.12 ('base')",
   "language": "python",
   "name": "python3"
  },
  "language_info": {
   "codemirror_mode": {
    "name": "ipython",
    "version": 3
   },
   "file_extension": ".py",
   "mimetype": "text/x-python",
   "name": "python",
   "nbconvert_exporter": "python",
   "pygments_lexer": "ipython3",
   "version": "3.9.12"
  },
  "orig_nbformat": 4,
  "vscode": {
   "interpreter": {
    "hash": "25ccfe66b39282fc3ea19bf8fc3cc43ce18f6044ac6a7f466ec4a156f6861604"
   }
  }
 },
 "nbformat": 4,
 "nbformat_minor": 2
}
