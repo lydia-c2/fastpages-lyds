{
 "cells": [
  {
   "cell_type": "markdown",
   "metadata": {},
   "source": [
    "# Lesson 3.5-3.7 Hacks\n",
    "> Hacks for Unit 3 Lesson 3\n",
    "\n",
    "- toc: false\n",
    "- comments: true\n",
    "- permalink: /notebooks/U3L3Hacks\n",
    "- categories: [week 14]"
   ]
  },
  {
   "cell_type": "markdown",
   "metadata": {},
   "source": [
    "## Hacks 1 (3.5)\n",
    "\n",
    "\n",
    "### Boolean:\n",
    "- A Boolean is a system of algebraic notation that represents logical propositions\n",
    "- Booleans are also conditionals, testing whether a statement is true or false\n",
    "\n",
    "### Relational Operators:\n",
    "- Mathematical relationships between variables\n",
    "- EX: <, >, =\n",
    "\n",
    "### Logical Operators:\n",
    "\n",
    "- NOT: displays opposite of data\n",
    "- AND: evaluates two conditionals together\n",
    "- OR: evaluates conditionals and if one is true then code will execute\n"
   ]
  },
  {
   "cell_type": "markdown",
   "metadata": {},
   "source": [
    "## NOT"
   ]
  },
  {
   "cell_type": "code",
   "execution_count": 2,
   "metadata": {},
   "outputs": [
    {
     "name": "stdout",
     "output_type": "stream",
     "text": [
      "False\n"
     ]
    }
   ],
   "source": [
    "No = True\n",
    "likesCompSci = No\n",
    "answer = not(likesCompSci)\n",
    "print(answer)"
   ]
  },
  {
   "cell_type": "markdown",
   "metadata": {},
   "source": [
    "## AND"
   ]
  },
  {
   "cell_type": "code",
   "execution_count": 9,
   "metadata": {},
   "outputs": [
    {
     "name": "stdout",
     "output_type": "stream",
     "text": [
      "Qualified for Regionals\n"
     ]
    }
   ],
   "source": [
    "competitions = 3\n",
    "rank = 16\n",
    "if rank <= 26 and competitions >= 2:\n",
    "    print(\"Qualified for Regionals\")"
   ]
  },
  {
   "cell_type": "markdown",
   "metadata": {},
   "source": [
    "## OR"
   ]
  },
  {
   "cell_type": "code",
   "execution_count": 5,
   "metadata": {},
   "outputs": [
    {
     "name": "stdout",
     "output_type": "stream",
     "text": [
      "Eligible for Regionals\n"
     ]
    }
   ],
   "source": [
    "score1 = 7\n",
    "score2 = 14\n",
    "if score1 <= 15 or score2 < 15:\n",
    "    rank = 26\n",
    "    if rank <=26:\n",
    "        print(\"Eligible for Regionals\")"
   ]
  },
  {
   "cell_type": "markdown",
   "metadata": {},
   "source": [
    "## Hack 2 (3.6)\n",
    "\n",
    "### Key Terms\n",
    "Selection: Selection is the code that will execute depending on whether or not the conditional is true or false.\n",
    "- EX: \"print(\"This is for APSCP\")\" if a conditional was true would be the SELECTION part of code\n",
    "\n",
    "\n",
    "Algorithm: An algorithm is the instructions for the code to execute\n",
    "- EX: the code written below is an ALGORITHM\n",
    "\n",
    "\n",
    "Conditional Statement / If-Statement: (Depends on boolean value) This statement determines whether or not the selected code will run. If the conditional is true, then the code will execute. If false, then it will not.\n",
    "- EX: CONDITIONAL seen in code below (if test1 >= 75...)"
   ]
  },
  {
   "cell_type": "markdown",
   "metadata": {},
   "source": [
    "## 3.6 Hacks #1\n",
    "\n",
    "- For the first hack, pretend you are a school's test grader. Create an array with integers, each integer representing one score from a student's taken tests. If the average of the student's test scores are at least 75 percent, then display that the student is eligible for credit, and if not, display that the student must retake the tests over break. "
   ]
  },
  {
   "cell_type": "code",
   "execution_count": 9,
   "metadata": {},
   "outputs": [
    {
     "name": "stdout",
     "output_type": "stream",
     "text": [
      "Eligible for Credit\n"
     ]
    }
   ],
   "source": [
    "import random\n",
    "test1 = random.randint(0,100)\n",
    "test2 = random.randint(0,100)\n",
    "test3 = random.randint(0,100)\n",
    "if test1 >= 75 and test2 >= 75 and test3 >= 75:\n",
    "    print(\"Eligible for Credit\")\n",
    "else:\n",
    "    print(\"Must Retake over Break\")"
   ]
  },
  {
   "cell_type": "markdown",
   "metadata": {},
   "source": [
    "## 3.6 Hacks #2\n",
    "\n",
    "\n",
    "- The second hack is more number-oriented. Create an algorithm that calculates the sum of two numbers, then determines whether the sum is greater than or less than 100."
   ]
  },
  {
   "cell_type": "code",
   "execution_count": 27,
   "metadata": {},
   "outputs": [
    {
     "name": "stdout",
     "output_type": "stream",
     "text": [
      "Less than 100\n"
     ]
    }
   ],
   "source": [
    "import random\n",
    "randomNumber1 = random.randint(0,150)\n",
    "randomNumber2 = random.randint(0,150)\n",
    "addNumbers = randomNumber1+randomNumber2\n",
    "\n",
    "if addNumbers < 100:\n",
    "    print(\"Less than 100\")\n",
    "elif addNumbers == 100:\n",
    "    print(\"Equal to 100\")\n",
    "else: \n",
    "    print(\"Greater than 100\")\n"
   ]
  },
  {
   "cell_type": "markdown",
   "metadata": {},
   "source": [
    "## Hack 3 (3.7)\n",
    "\n",
    "### Flow Chart and Code #1\n",
    "\n",
    "![]({{site.baseurl}}/images/FlowChart1.png)"
   ]
  },
  {
   "cell_type": "code",
   "execution_count": 32,
   "metadata": {},
   "outputs": [
    {
     "name": "stdout",
     "output_type": "stream",
     "text": [
      "qualified\n"
     ]
    }
   ],
   "source": [
    "import random \n",
    "competitions = random.randint(0,5)\n",
    "rank = random.randint(1,30)\n",
    "if competitions >= 2:\n",
    "    if rank <= 15:\n",
    "        print(\"qualified\")\n",
    "    else:\n",
    "        print(\"not qualified\")\n",
    "else:\n",
    "    print(\"ineligible\")"
   ]
  },
  {
   "cell_type": "markdown",
   "metadata": {},
   "source": [
    "### Flow Chart and Code #2\n",
    "\n",
    "![]({{site.baseurl}}/images/FlowChart2.png)"
   ]
  },
  {
   "cell_type": "code",
   "execution_count": 8,
   "metadata": {},
   "outputs": [
    {
     "name": "stdout",
     "output_type": "stream",
     "text": [
      "toddler\n"
     ]
    }
   ],
   "source": [
    "import random\n",
    "age = random.randint(0,80)\n",
    "if age < 2:\n",
    "  print(\"baby\")\n",
    "elif age < 4:\n",
    "  print(\"toddler\")\n",
    "elif age < 12:\n",
    "  print(\"kiddie\")\n",
    "elif age < 20:\n",
    "  print(\"teen\")\n",
    "else: \n",
    "  print(\"adult\")\n",
    "  "
   ]
  },
  {
   "cell_type": "markdown",
   "metadata": {},
   "source": [
    "### Flow Chart & Code #3\n",
    "\n",
    "![]({{site.baseurl}}/images/FlowChart3.png)"
   ]
  },
  {
   "cell_type": "code",
   "execution_count": 38,
   "metadata": {},
   "outputs": [
    {
     "name": "stdout",
     "output_type": "stream",
     "text": [
      "Ceramics might be a good fit!\n",
      "Maybe art isn't for you...\n"
     ]
    }
   ],
   "source": [
    "art = (input(\"This is an Electives Recommendation Generator! Do you like Art? \\nY or N. \"))\n",
    "if art == \"Y\" :\n",
    "   print(\"Ceramics might be a good fit!\")\n",
    "   ceramics = input(\"\\n Y or N ? \")\n",
    "   if ceramics == \"Y\":\n",
    "     print(\"Add Ceramics to your schedule!\")\n",
    "   else:\n",
    "     apart = input(\"What about AP Art!? \\n Y or N ? \")\n",
    "     if apart == \"Y\":\n",
    "        print(\"Add AP Art to your schedule!\")\n",
    "     else: \n",
    "        print(\"Maybe art isn't for you...\")\n",
    "else:\n",
    "   stem = input(\"Do you like STEM? \\n Y or N ? \")\n",
    "   if stem == \"Y\":\n",
    "      print(\"Try AP Computer Science Principles!\")\n",
    "   else: \n",
    "      print(\"I have no more recs...\")\n"
   ]
  }
 ],
 "metadata": {
  "kernelspec": {
   "display_name": "Python 3.9.12 ('base')",
   "language": "python",
   "name": "python3"
  },
  "language_info": {
   "codemirror_mode": {
    "name": "ipython",
    "version": 3
   },
   "file_extension": ".py",
   "mimetype": "text/x-python",
   "name": "python",
   "nbconvert_exporter": "python",
   "pygments_lexer": "ipython3",
   "version": "3.9.12"
  },
  "orig_nbformat": 4,
  "vscode": {
   "interpreter": {
    "hash": "25ccfe66b39282fc3ea19bf8fc3cc43ce18f6044ac6a7f466ec4a156f6861604"
   }
  }
 },
 "nbformat": 4,
 "nbformat_minor": 2
}
