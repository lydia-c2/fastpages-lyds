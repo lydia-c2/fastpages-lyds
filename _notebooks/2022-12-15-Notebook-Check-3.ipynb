{
 "cells": [
  {
   "cell_type": "markdown",
   "metadata": {},
   "source": [
    "# Unit 3.9-15 Notes\n",
    "> My notes from week 3 of student lessons\n",
    "\n",
    "- toc: false\n",
    "- comments: true\n",
    "- permalink: /notebooks/U3W3Notes\n",
    "- categories: [week 16]"
   ]
  },
  {
   "cell_type": "markdown",
   "metadata": {},
   "source": [
    "# Lesson 3.9 & 3.11 Notes\n",
    "\n",
    "- Different algorithms can be used to achieve the same goal\n",
    "- This is important within collaborating\n",
    "    - Allows for debugging"
   ]
  },
  {
   "cell_type": "code",
   "execution_count": 1,
   "metadata": {},
   "outputs": [
    {
     "name": "stdout",
     "output_type": "stream",
     "text": [
      "The parking rate is as follows: \n",
      " Less than one hour: Free \n",
      " 1-2 hours: $5 \n",
      " 2-3 hours: $8 \n",
      " 3-4 hours: $10 \n",
      " 4+ hours: $12\n",
      "How many hours have you parked at this garage?\n",
      "3.0 hours costs:\n",
      "$10\n",
      "Have a good day!\n"
     ]
    }
   ],
   "source": [
    "print(\"The parking rate is as follows: \\n Less than one hour: Free \\n 1-2 hours: $5 \\n 2-3 hours: $8 \\n 3-4 hours: $10 \\n 4+ hours: $12\")\n",
    "\n",
    "time = float(input(\"How many hours have you parked at this garage?\"))\n",
    "print(\"How many hours have you parked at this garage?\")\n",
    "print(time, \"hours costs:\")\n",
    "\n",
    "if time < 1 :\n",
    "    print(\"Free\")\n",
    "elif time >= 1 and time < 2 :\n",
    "    print(\"$5\")\n",
    "elif time >= 2 and time < 3 :\n",
    "    print(\"$8\")\n",
    "elif time >= 3 and time < 4 :\n",
    "    print(\"$10\")\n",
    "else:\n",
    "    print(\"$12\")\n",
    "\n",
    "print(\"Have a good day!\")"
   ]
  },
  {
   "cell_type": "markdown",
   "metadata": {},
   "source": [
    "1. Start\n",
    "2. Input number of hours parked\n",
    "3. If hours is less than 1, cost is free\n",
    "4. If hours is between 1 and 2, cost is $5\n",
    "5. If hours is between 2 and 3, cost is $8\n",
    "6. If hours is between 3 and 4, cost is $10\n",
    "7. If hours is more than 4, cost is $12\n",
    "8. Display cost and goodbye\n",
    "9. Finish"
   ]
  },
  {
   "cell_type": "markdown",
   "metadata": {},
   "source": [
    "## [3.9 & 11 Hacks](https://lydia-c2.github.io/lyds.github.io/markdown/U3L5Hacks)"
   ]
  },
  {
   "cell_type": "markdown",
   "metadata": {},
   "source": [
    "# 3.12-13 Notes\n",
    "\n",
    "\n",
    "### Vocabulary:\n",
    "\n",
    "##### Procedure:\n",
    "- A procedure is a piece of code that is made to have accomplish a certain goal (like a function)\n",
    "\n",
    "##### Parameter:\n",
    "- A parameter is a variable that allows data to be imported into a function. \n",
    "    - A parameter can look like \"a\" and \"b\" in random.randint(a,b)\n",
    "\n",
    "##### Return Value:\n",
    " - A return value is a value that returns to a procedure using a return statement\n",
    "    - Python to continues executing the program and returns a certain value (Return Value)\n",
    "    - Using a return statement\n",
    "\n",
    "##### Procedure Name:\n",
    "The name of a function\n",
    "\n",
    "##### Arguments:\n",
    "An argument provides data to a function\n",
    "- Often defined outside of a function\n",
    "- Imported into function via parameters\n"
   ]
  },
  {
   "cell_type": "markdown",
   "metadata": {},
   "source": [
    "## Creating Functions in Python and Javascript"
   ]
  },
  {
   "cell_type": "markdown",
   "metadata": {},
   "source": [
    "### Python \n",
    "```bash\n",
    "def function(a,b): # function is defined\n",
    "  print(a+b) # prints output of variables\n",
    "\n",
    "function(1,2) # one instance that it can be used\n",
    "function(2,3) # another instance\n",
    "```\n",
    "\n",
    "```\n",
    "3\n",
    "5\n",
    "```\n",
    "\n",
    "Python is similar to the Collegeboard example, where ```def``` defines the function, ```function```, and then is followed by parameters ```a,b```, which can later be interchanged with any numbers as shown with ```function(1,2)```. The numbers are called arguments, which are information provided to the function with parameters. In this case, the parameters are being added within the function and then printed.\n",
    "\n",
    "#### Javascript\n",
    "\n",
    "```javascript\n",
    "function Function(a,b) {\n",
    "  return a + b;\n",
    "}\n",
    "\n",
    "Function(1,2)\n",
    "Function(2,3)\n",
    "```\n",
    "\n",
    "```\n",
    "3\n",
    "5\n",
    "```\n",
    "\n",
    "Javascript in this case is almost the exact same as Python, the only differences being that function is called with ```function``` and that the formatting is a little different. Otherwise, it does the exact same thing as the Python example."
   ]
  },
  {
   "cell_type": "markdown",
   "metadata": {},
   "source": [
    "## [3.12-13 Hacks](https://lydia-c2.github.io/lyds.github.io/notebooks/U3L6Notes)"
   ]
  },
  {
   "cell_type": "markdown",
   "metadata": {},
   "source": [
    "# Unit 3.14-15 Notes\n",
    "\n",
    "### College Board Knowledge\n",
    " \n",
    "- A software library contains procedures that can be used in the creation of new programs.\n",
    "- Existing segments of code can come from internal or external sources, ie. libraries or previously written code.\n",
    "- The use of libraries simplifies the task of creating complex programs.\n",
    "- Application program interfaces (APIs) are specifications for how the procedures in a library behave and can be used.\n",
    "- Documentation for a library or API is necessary in understanding the key behaviors provided by the API/library and how to utilize them in your work.\n",
    "\n",
    "### What is a Library?\n",
    "\n",
    "- A library is a collection of code from an external source that can be used to add functionality to a program.\n",
    "- Libraries are very useful, as they can be used to save time and effort in the development process.\n",
    "- Libraries are usually included in a program using a special keyword called \" .\" This keyword tells the program to look for the library and use its code.\n",
    "\n",
    "### What is randomization?\n",
    "- Randomization generates a value between two numbers. For example RANDOM(1,3) may result as 1 or 2 or 3, either one of those."
   ]
  },
  {
   "cell_type": "code",
   "execution_count": 2,
   "metadata": {},
   "outputs": [
    {
     "name": "stdout",
     "output_type": "stream",
     "text": [
      "Team Baddies for life\n"
     ]
    }
   ],
   "source": [
    "import random\n",
    "\n",
    "number = random.randint(0,10)\n",
    "\n",
    "if number>3:\n",
    "    print(\"Team Baddies for life\")\n",
    "elif number>6:\n",
    "    print(\"I can't wait for break!\")\n",
    "else: \n",
    "    print(\"APCSP is okay\")"
   ]
  },
  {
   "cell_type": "markdown",
   "metadata": {},
   "source": [
    "### Other Uses for \"random\" function:\n",
    "\n",
    "Method\t          |  Description\n",
    "\n",
    "seed()\t          |  Initialize the random number generator\n",
    "\n",
    "getstate()\t      |  Returns the current internal state of the random number generator\n",
    "\n",
    "setstate()\t      |  Restores the internal state of the random number generator\n",
    "\n",
    "getrandbits()\t  |  Returns a number representing the random bits\n",
    "\n",
    "randrange()\t      |  Returns a random number between the given range\n",
    "\n",
    "randint()\t      |  Returns a random number between the given range\n",
    "\n",
    "choice()\t      |  Returns a random element from the given sequence\n",
    "\n",
    "choices()\t      |  Returns a list with a random selection from the given sequence\n",
    "\n",
    "shuffle()\t      |  Takes a sequence and returns the sequence in a random order\n",
    "\n",
    "sample()\t      |  Returns a given sample of a sequence\n",
    "\n",
    "random()\t      |  Returns a random float number between 0 and 1\n",
    "\n",
    "uniform()\t      |  Returns a random float number between two given parameters\n",
    "\n",
    "betavariate()\t  |  Returns a random float number between 0 and 1 based on the Beta distribution (used in statistics)\n",
    "\n",
    "expovariate()\t  |  Returns a random float number based on the Exponential distribution (used in statistics)\n",
    "\n",
    "gammavariate()\t  |  Returns a random float number based on the Gamma distribution (used in statistics)\n",
    "\n",
    "gauss()\t          |  Returns a random float number based on the Gaussian distribution (used in probability theories)\n",
    "\n",
    "lognormvariate()  |  Returns a random float number based on a log-normal distribution (used in probability theories)\n",
    "\n",
    "normalvariate()\t  |  Returns a random float number based on the normal distribution (used in probability theories)\n",
    "\n",
    "vonmisesvariate() |  Returns a random float number based on the von Mises distribution (used in directional statistics)\n",
    "\n",
    "paretovariate()\t  |  Returns a random float number based on the Pareto distribution (used in probability theories)\n",
    "\n",
    "weibullvariate()  |  Returns a random float number based on the Weibull distribution (used in statistics)\n"
   ]
  },
  {
   "cell_type": "markdown",
   "metadata": {},
   "source": [
    "## [3.14-15 Hacks](https://lydia-c2.github.io/lyds.github.io/notebooks/U3L7Notes)"
   ]
  }
 ],
 "metadata": {
  "kernelspec": {
   "display_name": "Python 3.9.12 ('base')",
   "language": "python",
   "name": "python3"
  },
  "language_info": {
   "codemirror_mode": {
    "name": "ipython",
    "version": 3
   },
   "file_extension": ".py",
   "mimetype": "text/x-python",
   "name": "python",
   "nbconvert_exporter": "python",
   "pygments_lexer": "ipython3",
   "version": "3.9.12"
  },
  "orig_nbformat": 4,
  "vscode": {
   "interpreter": {
    "hash": "25ccfe66b39282fc3ea19bf8fc3cc43ce18f6044ac6a7f466ec4a156f6861604"
   }
  }
 },
 "nbformat": 4,
 "nbformat_minor": 2
}
