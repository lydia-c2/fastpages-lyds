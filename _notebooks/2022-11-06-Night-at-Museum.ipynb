{
 "cells": [
  {
   "cell_type": "markdown",
   "metadata": {},
   "source": [
    "# Night at the Museum Blog\n",
    "> What I saw at Night at the Museum!\n",
    "\n",
    "- toc: false\n",
    "- comments: true\n",
    "- permalink: /notebooks/natm\n",
    "- categories: [week 12]"
   ]
  },
  {
   "cell_type": "markdown",
   "metadata": {},
   "source": [
    "## Playlist Helper\n",
    "![]({{site.baseurl}}/images/playlistPic.png)\n",
    " \n",
    "This is a picture of the playlist site I saw when I walked around the Night at the Museum. The site was able to show me which songs were popular and recommendations. I visited and learned about many projects (not all pictured) and it was so cool to see all the different ideas. I also saw a site, called DN Marketplace that allowed me ot sell whatever I wanted (pictured below).\n",
    "\n",
    "## DN Marketplace\n",
    "![]({{site.baseurl}}/images/dneroPic.png)\n",
    "\n",
    "\n",
    "## Ceramics\n",
    "\n",
    "![]({{site.baseurl}}/images/ceramicsPic.png)\n",
    "\n",
    "Finally, Lina and I went to visit many of the Art classes like AP Studio Art, Digital Design (I think it's called smthing else), and Ceramics. It was really cool to see all the ceramics artwork. Plus, in studio art, we learned about the prompt behind their art pieces which was really cool. \n",
    " \n",
    " \n"
   ]
  }
 ],
 "metadata": {
  "kernelspec": {
   "display_name": "Python 3.8.2 64-bit",
   "language": "python",
   "name": "python3"
  },
  "language_info": {
   "name": "python",
   "version": "3.8.2"
  },
  "orig_nbformat": 4,
  "vscode": {
   "interpreter": {
    "hash": "31f2aee4e71d21fbe5cf8b01ff0e069b9275f58929596ceb00d14d90e3e16cd6"
   }
  }
 },
 "nbformat": 4,
 "nbformat_minor": 2
}
