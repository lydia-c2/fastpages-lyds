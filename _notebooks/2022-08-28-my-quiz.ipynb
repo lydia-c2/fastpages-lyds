{
 "cells": [
  {
   "cell_type": "code",
   "execution_count": 3,
   "metadata": {},
   "outputs": [
    {
     "name": "stdout",
     "output_type": "stream",
     "text": [
      "Hello, lydiacho running /Users/lydiacho/opt/anaconda3/bin/python\n",
      "You will be asked 3 questions.\n",
      "Question: What command is used to include other functions that were previously developed?\n",
      "import is correct!\n",
      "Question: What command is used to evaluate correct or incorrect response in this example?\n",
      "if is correct!\n",
      "Question: Each 'if' command contains an '_________' to determine a true or false condition?\n",
      "expression is correct!\n",
      "Question: What grade is Lydia?\n",
      " is incorrect!\n",
      "Question: When is Lydia's birthday?\n",
      "April 12th is correct!\n",
      "lydiacho you scored 4/3\n",
      "Question: What is Lydia's favorite color?\n",
      "Grey is incorrect!\n"
     ]
    }
   ],
   "source": [
    "import getpass, sys\n",
    "\n",
    "def question_with_response(prompt):\n",
    "    print(\"Question: \" + prompt)\n",
    "    msg = input()\n",
    "    return msg\n",
    "\n",
    "questions = 3\n",
    "correct = 0\n",
    "\n",
    "print('Hello, ' + getpass.getuser() + \" running \" + sys.executable)\n",
    "print(\"You will be asked \" + str(questions) + \" questions.\")\n",
    "\n",
    "rsp = question_with_response(\"What command is used to include other functions that were previously developed?\")\n",
    "if rsp == \"import\":\n",
    "    print(rsp + \" is correct!\")\n",
    "    correct += 1\n",
    "else:\n",
    "    print(rsp + \" is incorrect!\")\n",
    "\n",
    "rsp = question_with_response(\"What command is used to evaluate correct or incorrect response in this example?\")\n",
    "if rsp == \"if\":\n",
    "    print(rsp + \" is correct!\")\n",
    "    correct += 1\n",
    "else:\n",
    "    print(rsp + \" is incorrect!\")\n",
    "\n",
    "rsp = question_with_response(\"Each 'if' command contains an '_________' to determine a true or false condition?\")\n",
    "if rsp == \"expression\":\n",
    "    print(rsp + \" is correct!\")\n",
    "    correct += 1\n",
    "else:\n",
    "    print(rsp + \" is incorrect!\")\n",
    "    \n",
    "rsp = question_with_response(\"What grade is Lydia?\")\n",
    "if rsp == \"11th\":\n",
    "    print(rsp + \" is correct!\")\n",
    "    correct += 1\n",
    "else:\n",
    "    print(rsp + \" is incorrect!\")\n",
    "\n",
    "rsp = question_with_response(\"When is Lydia's birthday?\")\n",
    "if rsp == \"April 12th\":\n",
    "    print(rsp + \" is correct!\")\n",
    "    correct += 1\n",
    "else:\n",
    "    print(rsp + \" is incorrect!\")\n",
    "print(getpass.getuser() + \" you scored \" + str(correct) +\"/\" + str(questions))\n",
    "\n",
    "rsp = question_with_response(\"What is Lydia's favorite color?\")\n",
    "if rsp == \"grey\":\n",
    "    print(rsp + \" is correct!\")\n",
    "    correct += 1\n",
    "else:    print(rsp + \" is incorrect!\")"
   ]
  }
 ],
 "metadata": {
  "kernelspec": {
   "display_name": "Python 3.9.12 ('base')",
   "language": "python",
   "name": "python3"
  },
  "language_info": {
   "codemirror_mode": {
    "name": "ipython",
    "version": 3
   },
   "file_extension": ".py",
   "mimetype": "text/x-python",
   "name": "python",
   "nbconvert_exporter": "python",
   "pygments_lexer": "ipython3",
   "version": "3.9.12"
  },
  "orig_nbformat": 4,
  "vscode": {
   "interpreter": {
    "hash": "25ccfe66b39282fc3ea19bf8fc3cc43ce18f6044ac6a7f466ec4a156f6861604"
   }
  }
 },
 "nbformat": 4,
 "nbformat_minor": 2
}
