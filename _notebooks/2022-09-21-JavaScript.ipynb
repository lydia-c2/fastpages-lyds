{
 "cells": [
  {
   "cell_type": "markdown",
   "metadata": {},
   "source": [
    "# JavaScript\n",
    "> JavaScript Codes\n",
    "\n",
    "- toc: false\n",
    "- comments: true\n",
    "- permalink: /notebooks/javascript_commands\n",
    "- categories: [week 5]"
   ]
  },
  {
   "cell_type": "code",
   "execution_count": 4,
   "metadata": {},
   "outputs": [
    {
     "name": "stdout",
     "output_type": "stream",
     "text": [
      "Hello, my name is Lydia!\n"
     ]
    }
   ],
   "source": [
    "console.log(\"Hello, my name is Lydia!\");"
   ]
  },
  {
   "cell_type": "code",
   "execution_count": 6,
   "metadata": {},
   "outputs": [
    {
     "name": "stdout",
     "output_type": "stream",
     "text": [
      "Hello, my name is Lydia!\n",
      "Reuse of logIT\n"
     ]
    },
    {
     "ename": "ReferenceError",
     "evalue": "logIt is not defined",
     "output_type": "error",
     "traceback": [
      "evalmachine.<anonymous>:5",
      "logIt(\"Hello, Students!\");",
      "^",
      "",
      "ReferenceError: logIt is not defined",
      "    at evalmachine.<anonymous>:5:1",
      "    at Script.runInThisContext (vm.js:96:20)",
      "    at Object.runInThisContext (vm.js:303:38)",
      "    at run ([eval]:1020:15)",
      "    at onRunRequest ([eval]:864:18)",
      "    at onMessage ([eval]:828:13)",
      "    at process.emit (events.js:182:13)",
      "    at emit (internal/child_process.js:812:12)",
      "    at process._tickCallback (internal/process/next_tick.js:63:19)"
     ]
    }
   ],
   "source": [
    "var msg = \"Hello, my name is Lydia!\";\n",
    "console.log(msg);\n"
   ]
  },
  {
   "cell_type": "code",
   "execution_count": 10,
   "metadata": {},
   "outputs": [
    {
     "name": "stdout",
     "output_type": "stream",
     "text": [
      "Hello, my name is Lydia!\n",
      "Reuse of logIT\n",
      "Mr. Yeung is so cool!\n",
      "2022\n"
     ]
    }
   ],
   "source": [
    "function logIt(output) {\n",
    "    console.log(output);\n",
    "}\n",
    "logIt(msg);\n",
    "console.log(\"Reuse of logIT\")\n",
    "logIt(\"Mr. Yeung is so cool!\");\n",
    "logIt(2022)"
   ]
  },
  {
   "cell_type": "code",
   "execution_count": 12,
   "metadata": {},
   "outputs": [
    {
     "name": "stdout",
     "output_type": "stream",
     "text": [
      "This is the best class ever\n",
      "string ; AP compsci\n",
      "number ; 2022\n",
      "object ; [ 1, 2, 3 ]\n"
     ]
    }
   ],
   "source": [
    "function logItType(output) {\n",
    "    console.log(typeof output, \";\", output);\n",
    "}\n",
    "console.log(\"This is the best class ever\")\n",
    "logItType(\"AP compsci\"); \n",
    "logItType(2022);   \n",
    "logItType([1, 2, 3]);"
   ]
  },
  {
   "cell_type": "code",
   "execution_count": 15,
   "metadata": {},
   "outputs": [
    {
     "name": "stdout",
     "output_type": "stream",
     "text": [
      "object ; Person { name: 'Mr M', ghID: 'jm1021', classOf: 1977, role: '' }\n",
      "string ; {\"name\":\"Mr M\",\"ghID\":\"jm1021\",\"classOf\":1977,\"role\":\"\"}\n",
      "object ; Person { name: 'Mr M', ghID: 'jm1021', classOf: 1977, role: 'Teacher' }\n",
      "string ; {\"name\":\"Mr M\",\"ghID\":\"jm1021\",\"classOf\":1977,\"role\":\"Teacher\"}\n"
     ]
    }
   ],
   "source": [
    "function Person(name, ghID, classOf) {\n",
    "    this.name = name;\n",
    "    this.ghID = ghID;\n",
    "    this.classOf = classOf;\n",
    "    this.role = \"\";\n",
    "}\n",
    "\n",
    "Person.prototype.setRole = function(role) {\n",
    "    this.role = role;\n",
    "}\n",
    "\n",
    "Person.prototype.toJSON = function() {\n",
    "    const obj = {name: this.name, ghID: this.ghID, classOf: this.classOf, role: this.role};\n",
    "    const json = JSON.stringify(obj);\n",
    "    return json;\n",
    "}\n",
    "\n",
    "\n",
    "var teacher = new Person(\"Mr M\", \"jm1021\", 1977); \n",
    "logItType(teacher);  \n",
    "logItType(teacher.toJSON());  \n",
    "\n",
    "\n",
    "teacher.setRole(\"Teacher\");   \n",
    "logItType(teacher); \n",
    "logItType(teacher.toJSON());"
   ]
  },
  {
   "cell_type": "code",
   "execution_count": 17,
   "metadata": {},
   "outputs": [
    {
     "name": "stdout",
     "output_type": "stream",
     "text": [
      "object ; [ Person { name: 'Mr M', ghID: 'jm1021', classOf: 1977, role: 'Teacher' },\n",
      "  Person {\n",
      "    name: 'Lydia',\n",
      "    ghID: 'lydia-c2',\n",
      "    classOf: 2024,\n",
      "    role: 'Student' },\n",
      "  Person {\n",
      "    name: 'Alexa',\n",
      "    ghID: 'alexac54767',\n",
      "    classOf: 2024,\n",
      "    role: 'Student' },\n",
      "  Person { name: 'Ava', ghID: 'avac54765', classOf: 2024, role: 'Student' },\n",
      "  Person {\n",
      "    name: 'Naja',\n",
      "    ghID: 'najaafoncesa',\n",
      "    classOf: 2025,\n",
      "    role: 'Student' } ]\n",
      "string ; Mr M\n",
      "string ; {\"name\":\"Mr M\",\"ghID\":\"jm1021\",\"classOf\":1977,\"role\":\"Teacher\"}\n",
      "object ; { name: 'Mr M', ghID: 'jm1021', classOf: 1977, role: 'Teacher' }\n"
     ]
    }
   ],
   "source": [
    "var students = [ \n",
    "    new Person(\"Lydia\", \"lydia-c2\", 2024),\n",
    "    new Person(\"Alexa\", \"alexac54767\", 2024),\n",
    "    new Person(\"Ava\", \"avac54765\", 2024),\n",
    "    new Person(\"Naja\", \"najaafoncesa\", 2025),\n",
    "\n",
    "];\n",
    "\n",
    "function Classroom(teacher, students){ // 1 teacher, many student\n",
    "    // start Classroom with Teacher\n",
    "    teacher.setRole(\"Teacher\");\n",
    "    this.teacher = teacher;\n",
    "    this.classroom = [teacher];\n",
    "    // add each Student to Classroom\n",
    "    this.students = students;\n",
    "    this.students.forEach(student => { student.setRole(\"Student\"); this.classroom.push(student); });\n",
    "    // build json/string format of Classroom\n",
    "    this.json = [];\n",
    "    this.classroom.forEach(person => this.json.push(person.toJSON()));\n",
    "}\n",
    "\n",
    "// make a CompSci classroom from formerly defined teacher and students\n",
    "compsci = new Classroom(teacher, students);\n",
    "\n",
    "// output of Objects and JSON in CompSci classroom\n",
    "logItType(compsci.classroom); \n",
    "logItType(compsci.classroom[0].name);  \n",
    "logItType(compsci.json[0]);  \n",
    "logItType(JSON.parse(compsci.json[0]));"
   ]
  },
  {
   "cell_type": "code",
   "execution_count": 18,
   "metadata": {},
   "outputs": [
    {
     "data": {
      "text/html": [
       "<div style='display:inline-block;border: 2px solid grey;box-shadow: 0.8em 0.4em 0.4em grey;'><table><tr><th><mark>Name</mark></th><th><mark>GitHub ID</mark></th><th><mark>Class Of</mark></th><th><mark>Role</mark></th></tr><tr><td>Mr M</td><td>jm1021</td><td>1977</td><td>Teacher</td><tr><tr><td>Lydia</td><td>lydia-c2</td><td>2024</td><td>Student</td><tr><tr><td>Alexa</td><td>alexac54767</td><td>2024</td><td>Student</td><tr><tr><td>Ava</td><td>avac54765</td><td>2024</td><td>Student</td><tr><tr><td>Naja</td><td>najaafoncesa</td><td>2025</td><td>Student</td><tr></table></div>"
      ]
     },
     "execution_count": 18,
     "metadata": {},
     "output_type": "execute_result"
    }
   ],
   "source": [
    "Classroom.prototype._toHtml = function() {\n",
    "    // HTML Style is build using inline structure\n",
    "    var style = (\n",
    "      \"display:inline-block;\" +\n",
    "      \"border: 2px solid grey;\" +\n",
    "      \"box-shadow: 0.8em 0.4em 0.4em grey;\"\n",
    "    );\n",
    "  \n",
    "    // HTML Body of Table is build as a series of concatenations (+=)\n",
    "    var body = \"\";\n",
    "    // Heading for Array Columns\n",
    "    body += \"<tr>\";\n",
    "    body += \"<th><mark>\" + \"Name\" + \"</mark></th>\";\n",
    "    body += \"<th><mark>\" + \"GitHub ID\" + \"</mark></th>\";\n",
    "    body += \"<th><mark>\" + \"Class Of\" + \"</mark></th>\";\n",
    "    body += \"<th><mark>\" + \"Role\" + \"</mark></th>\";\n",
    "    body += \"</tr>\";\n",
    "    // Data of Array, iterate through each row of compsci.classroom \n",
    "    for (var row of compsci.classroom) {\n",
    "      // tr for each row, a new line\n",
    "      body += \"<tr>\";\n",
    "      // td for each column of data\n",
    "      body += \"<td>\" + row.name + \"</td>\";\n",
    "      body += \"<td>\" + row.ghID + \"</td>\";\n",
    "      body += \"<td>\" + row.classOf + \"</td>\";\n",
    "      body += \"<td>\" + row.role + \"</td>\";\n",
    "      // tr to end line\n",
    "      body += \"<tr>\";\n",
    "    }\n",
    "  \n",
    "     // Build and HTML fragment of div, table, table body\n",
    "    return (\n",
    "      \"<div style='\" + style + \"'>\" +\n",
    "        \"<table>\" +\n",
    "          body +\n",
    "        \"</table>\" +\n",
    "      \"</div>\"\n",
    "    );\n",
    "  \n",
    "  };\n",
    "  \n",
    "  // IJavaScript HTML processor receive parameter of defined HTML fragment\n",
    "  $$.html(compsci._toHtml());"
   ]
  }
 ],
 "metadata": {
  "kernelspec": {
   "display_name": "JavaScript (Node.js)",
   "language": "javascript",
   "name": "javascript"
  },
  "language_info": {
   "file_extension": ".js",
   "mimetype": "application/javascript",
   "name": "javascript",
   "version": "10.13.0"
  },
  "orig_nbformat": 4,
  "vscode": {
   "interpreter": {
    "hash": "25ccfe66b39282fc3ea19bf8fc3cc43ce18f6044ac6a7f466ec4a156f6861604"
   }
  }
 },
 "nbformat": 4,
 "nbformat_minor": 2
}
