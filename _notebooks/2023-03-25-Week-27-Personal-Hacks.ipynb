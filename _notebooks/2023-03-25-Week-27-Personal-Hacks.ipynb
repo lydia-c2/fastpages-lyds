{
 "cells": [
  {
   "attachments": {},
   "cell_type": "markdown",
   "metadata": {},
   "source": [
    "#  Week 27 Hacks\n",
    "> Hacks and Quiz Results for Week 27\n",
    "- toc: false\n",
    "- comments: true\n",
    "- categories: [Week 27]"
   ]
  },
  {
   "attachments": {},
   "cell_type": "markdown",
   "metadata": {},
   "source": [
    "## Quiz Results and Corrections\n",
    "![Quiz](images/BigIdea2Quiz.png)\n",
    "\n",
    "I got a 24/25 on this quiz. However, I needed to search up a couple questions about binary, which I need to study and understand more.\n",
    "\n",
    "<br>\n",
    "\n",
    "![Q17](images/Q17.png)\n",
    "\n",
    "- I got this question wrong because I thought answer C would be true. However, it is missing a step in the algorithm of sorting the items by price, not just by date. Answer D would be correct because the statement is true."
   ]
  },
  {
   "attachments": {},
   "cell_type": "markdown",
   "metadata": {},
   "source": [
    "![Commits](images/Commits2.png) ![Commits](images/Commits3.png)\n",
    "\n",
    "\n",
    "Though I have been doing work each week, I realize that I don't commit my changes and contributions as much as I should- which is something I will work on."
   ]
  },
  {
   "attachments": {},
   "cell_type": "markdown",
   "metadata": {},
   "source": [
    "## Individual Plans for CPT\n",
    "\n",
    "- For the CPT, my role is the Scrum Master. I plan to make sure my group and I say on track with what needs to be accomplished.\n",
    "- After speaking with Mort, we plan to have separate simulations for each member.\n",
    "- My part of the project is going to be the four corners game, and I will likely try to incorporate binary through the use of images.\n",
    "- Below is the link to the project planning page I have been working on along with my team\n",
    "    - [LINK](https://shruthim0.github.io/canada/2023/03/24/smprojectplanning.html)"
   ]
  },
  {
   "attachments": {},
   "cell_type": "markdown",
   "metadata": {},
   "source": [
    "## Starter Code for 4 Corners"
   ]
  },
  {
   "cell_type": "code",
   "execution_count": null,
   "metadata": {},
   "outputs": [],
   "source": [
    "import random\n",
    "\n",
    "status = \"in\"\n",
    "while status != \"out\":\n",
    "    chooseCorner = input(\"What corner do you choose?\")\n",
    "\n",
    "    corner = random.randint(1,4)\n",
    "\n",
    "    if int(chooseCorner) == corner:\n",
    "        status = \"out\"\n",
    "        print(\"You chose corner number \" + chooseCorner + \" and you're OUT\")\n",
    "    else:\n",
    "        print(\"You chose corner number \" + chooseCorner + \" and are still in!\")\n"
   ]
  }
 ],
 "metadata": {
  "kernelspec": {
   "display_name": "base",
   "language": "python",
   "name": "python3"
  },
  "language_info": {
   "name": "python",
   "version": "3.9.12"
  },
  "orig_nbformat": 4
 },
 "nbformat": 4,
 "nbformat_minor": 2
}
