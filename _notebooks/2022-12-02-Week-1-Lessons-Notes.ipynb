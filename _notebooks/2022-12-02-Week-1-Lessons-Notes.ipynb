{
 "cells": [
  {
   "cell_type": "markdown",
   "metadata": {},
   "source": [
    "# Unit 3.1-3.4 Notes\n",
    "> My notes from week 1 of student lessons\n",
    "\n",
    "- toc: false\n",
    "- comments: true\n",
    "- permalink: /notebooks/U3W1Notes\n",
    "- categories: [week 14]"
   ]
  },
  {
   "cell_type": "markdown",
   "metadata": {},
   "source": [
    "## Lesson 3.1-3.2 Notes\n",
    "\n",
    "\n",
    "\n",
    "### College Board Essential Knowledge\n",
    "\n",
    " * A variable is an abstraction inside a program that holds a value\n",
    "    - each variable has associated data storage that represents a single value at a time\n",
    "    - if the value is a collection type such as a list, then the value can contain multiple values\n",
    "\n",
    " * Variables typically have meaningful names \n",
    "    - helps with the overall organization of the code and understanding of what is being represented \n",
    " * Some programming languages provide a variety of methods to represent data\n",
    "    - referenced using variables 9Booleans, numbers, lists, and strings\n",
    " * One form of a value is better suited for representation than another.\n",
    "\n",
    "### What are Variables?\n",
    "\n",
    "- Variables are abstractions made inside a program that holds a value. \n",
    "- These variables are used in code to refer to more comples values that the variable contains and makes the program code more organized and smoother to run.\n",
    "\n",
    "Variables can be seen as \"containers\" \n",
    "- each container has a name that holds what it is supposed to hold\n",
    "\n",
    "### More Essential Knowledge\n",
    "\n",
    "1. What exactly IS a variable?\n",
    "\n",
    "A: An abstraction that contains more code\n",
    "\n",
    "\n",
    "2. What is the best data type to represent someone's dog's name?\n",
    "\n",
    "A: String\n",
    "\n",
    "\n",
    "3. Why is it important to give variables specific names before containing values?\n",
    "\n",
    "A: So the code is organized\n",
    "\n",
    "\n",
    "4. What is the best way to represent someone's phone number?\n",
    "\n",
    "A: String\n",
    "\n",
    "In your **own** words, briefly explain by writing down what an assignment operator is\n",
    "- An assignment operator is an equal sign, which is needed in order to store a value inside a variable.\n",
    "\n",
    "In Collegeboard pseudocode, what symbol is used to assign values to variables?\n",
    "- <--\n",
    "\n",
    "A variable, x, is initially given a value of 15. Later on, the value for x is changed to 22. If you print x, would the command display 15 or 22?\n",
    "- 22\n",
    "\n",
    "\n",
    "* What is a list?\n",
    "\n",
    "A: Lists are sequences of elements where every element = a variable.\n",
    "\n",
    "\n",
    "* What is an element\n",
    "\n",
    "A: Elements are variables that are parts of lists.\n",
    "\n",
    "\n",
    "* What is an easy way to reference the elements in a list or string?\n",
    "\n",
    "A: An easy way to access elements is by putting the elements in an index and then using numbers to call specific parts of the string.\n",
    "\n",
    "\n",
    "* What is an example of a string?\n",
    "\n",
    "A: \"hello world\""
   ]
  },
  {
   "cell_type": "markdown",
   "metadata": {},
   "source": [
    "## Data Abstraction\n",
    "\n",
    "- Lists bundle together multiple elements and/or variables under one name are not defined with specified lengths. \n",
    "- The variables that are stored in a list do not have to be limited to one kind of variable. \n",
    "- The user does not need to know how the list stores data (this gives way for data abstraction).\n"
   ]
  },
  {
   "cell_type": "markdown",
   "metadata": {},
   "source": [
    "## How will this help with the AP Test?\n",
    "\n",
    "The essential knowledge about variables within this lesson will help us to prepare for what we need to know during the college board test. By understanding variables, what they are and how they are used, we will be able to to have a deeper understanding and will be able to apply it to real world situations and the test."
   ]
  },
  {
   "cell_type": "markdown",
   "metadata": {},
   "source": [
    "[Lydia's 3.1-3.2 Hacks](https://lydia-c2.github.io/lyds.github.io/markdown/U3L1Hacks)"
   ]
  }
 ],
 "metadata": {
  "kernelspec": {
   "display_name": "Python 3.9.12 ('base')",
   "language": "python",
   "name": "python3"
  },
  "language_info": {
   "name": "python",
   "version": "3.9.12"
  },
  "orig_nbformat": 4,
  "vscode": {
   "interpreter": {
    "hash": "25ccfe66b39282fc3ea19bf8fc3cc43ce18f6044ac6a7f466ec4a156f6861604"
   }
  }
 },
 "nbformat": 4,
 "nbformat_minor": 2
}
